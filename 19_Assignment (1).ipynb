{
 "cells": [
  {
   "cell_type": "markdown",
   "id": "711e7d53-b209-4254-aba8-a076f8343eb7",
   "metadata": {},
   "source": [
    "Q1 Solution"
   ]
  },
  {
   "cell_type": "markdown",
   "id": "5f2fbc5b-b796-4783-9a95-52487eb878d8",
   "metadata": {},
   "source": [
    "Five Pandas Functions with Examples"
   ]
  },
  {
   "cell_type": "markdown",
   "id": "caf96e1e-72cf-48e4-95ff-7e4ce12cbd72",
   "metadata": {},
   "source": [
    "1. read_csv(): This function is used to read data from a CSV file into a Pandas DataFrame.\n",
    "\n",
    "import pandas as pd\n",
    "\n",
    "df = pd.read_csv('example.csv')\n",
    "\n",
    "print(df)"
   ]
  },
  {
   "cell_type": "markdown",
   "id": "2c5bf63a-5866-4132-945b-dd57de474d11",
   "metadata": {},
   "source": [
    "2. head(): Returns the first n rows of a DataFrame. It is useful to quickly inspect the data.\n",
    "\n",
    "print(df.head())"
   ]
  },
  {
   "cell_type": "markdown",
   "id": "892c3b09-1062-42fb-a857-5b2fc8c28c79",
   "metadata": {},
   "source": [
    "3. info(): Provides a concise summary of a DataFrame, including the data types, non-null values, and memory usage.\n",
    "\n",
    "print(df.info())"
   ]
  },
  {
   "cell_type": "markdown",
   "id": "fa839506-65e8-4e3e-9852-ef0d9c861cfe",
   "metadata": {},
   "source": [
    "4. describe(): Generates descriptive statistics of a DataFrame, including measures of central tendency, dispersion, and shape of the distribution.\n",
    "\n",
    "print(df.describe())"
   ]
  },
  {
   "cell_type": "markdown",
   "id": "9f053462-d2eb-4fca-970b-001a2d19e8f1",
   "metadata": {},
   "source": [
    "5. groupby(): This function is used to split the data into groups based on some criteria and then apply a function to each group independently.\n",
    "\n",
    "grouped_data = df.groupby('category').mean()\n",
    "print(grouped_data)"
   ]
  },
  {
   "cell_type": "markdown",
   "id": "34e97186-7d53-4e06-8327-ffbb6192a9cf",
   "metadata": {},
   "source": [
    "Q2 SOLUTION"
   ]
  },
  {
   "cell_type": "code",
   "execution_count": 1,
   "id": "0099f7a5-b882-4663-bdf7-ed04fbc9421a",
   "metadata": {},
   "outputs": [
    {
     "name": "stdout",
     "output_type": "stream",
     "text": [
      "    A   B   C\n",
      "1  10  40  70\n",
      "3  20  50  80\n",
      "5  30  60  90\n"
     ]
    }
   ],
   "source": [
    "import pandas as pd\n",
    "\n",
    "def reindex(df):\n",
    "    df = df.reset_index(drop=True)\n",
    "\n",
    "    new_index = pd.RangeIndex(start=1, stop=len(df)*2, step=2)\n",
    "\n",
    "    df.index = new_index\n",
    "\n",
    "    return df\n",
    "\n",
    "df = pd.DataFrame({'A': [10, 20, 30], 'B': [40, 50, 60], 'C': [70, 80, 90]})\n",
    "result_df = reindex(df)\n",
    "\n",
    "print(result_df)"
   ]
  },
  {
   "cell_type": "markdown",
   "id": "489e4c38-47f7-4c81-b3ea-1907e81666a7",
   "metadata": {},
   "source": [
    "Q3 SOLUTION"
   ]
  },
  {
   "cell_type": "code",
   "execution_count": 4,
   "id": "3df4302f-7296-4873-aa35-ea4de57f5e5e",
   "metadata": {},
   "outputs": [
    {
     "name": "stdout",
     "output_type": "stream",
     "text": [
      "The sum of first 3 values is : 30\n"
     ]
    }
   ],
   "source": [
    "import pandas as pd\n",
    "def calculate(df):\n",
    "    if 'Values' not in df:\n",
    "        print(\"Error\")\n",
    "        return\n",
    "    values_column = df['Values']\n",
    "    \n",
    "    if len(values_column) < 3:\n",
    "        print(\"Error\")\n",
    "        return\n",
    "    sum = values_column.iloc[:3].sum()\n",
    "    print(\"The sum of first 3 values is :\", sum)\n",
    "df = pd.DataFrame({'Values': [5, 10, 15, 20, 25]})\n",
    "calculate(df)"
   ]
  },
  {
   "cell_type": "markdown",
   "id": "b838ecad-8c3e-45bf-a702-bc4a43e7cd57",
   "metadata": {},
   "source": [
    "Q4 Solution"
   ]
  },
  {
   "cell_type": "code",
   "execution_count": 1,
   "id": "76ec2b78-8132-488d-ba49-a482d66e3f82",
   "metadata": {},
   "outputs": [
    {
     "name": "stdout",
     "output_type": "stream",
     "text": [
      "                         Text  Word Count\n",
      "0  This is a sample sentence.           5\n",
      "1            Another example.           2\n",
      "2              Only one word.           3\n"
     ]
    }
   ],
   "source": [
    "import pandas as pd\n",
    "def word_count(df):\n",
    "    if 'Text' not in df.columns:\n",
    "        print(\"Error\")\n",
    "        return\n",
    "    df['Word Count'] = df['Text'].apply(lambda x: len(str(x).split()))\n",
    "df = pd.DataFrame({'Text': [\"This is a sample sentence.\", \"Another example.\", \"Only one word.\"]})\n",
    "word_count(df)\n",
    "print(df)"
   ]
  },
  {
   "cell_type": "markdown",
   "id": "da6529eb-025a-4eb5-83cb-bae87c43b19e",
   "metadata": {},
   "source": [
    "Q5 Solution"
   ]
  },
  {
   "cell_type": "markdown",
   "id": "19eccce4-b61e-4411-846e-f504255d2b94",
   "metadata": {},
   "source": [
    "There's a subtle difference between DataFrame.size and DataFrame.shape in Pandas.\n",
    "\n",
    "DataFrame.size: This attribute returns the total number of elements in the DataFrame. It's equivalent to the total number of cells, calculated as the product of the number of rows and columns."
   ]
  },
  {
   "cell_type": "code",
   "execution_count": 2,
   "id": "85a3ae4d-f233-46e0-9f0f-fcbdbf36308f",
   "metadata": {},
   "outputs": [
    {
     "name": "stdout",
     "output_type": "stream",
     "text": [
      "6\n"
     ]
    }
   ],
   "source": [
    "import pandas as pd\n",
    "\n",
    "df = pd.DataFrame({'Name':['John', 'Alice', 'Doe'], 'Age': [11, 19, 23]})\n",
    "\n",
    "size_of_df = df.size\n",
    "\n",
    "print(size_of_df)"
   ]
  },
  {
   "cell_type": "markdown",
   "id": "8253990a-bec8-48c8-8633-b0224664b17b",
   "metadata": {},
   "source": [
    "DataFrame.shape: This attribute returns a tuple representing the dimensions of the DataFrame. The tuple contains two elements: the number of rows and the number of columns."
   ]
  },
  {
   "cell_type": "code",
   "execution_count": 3,
   "id": "6fbad59a-e3d2-4663-9e0f-fb8053463b42",
   "metadata": {},
   "outputs": [
    {
     "name": "stdout",
     "output_type": "stream",
     "text": [
      "(3, 2)\n"
     ]
    }
   ],
   "source": [
    "import pandas as pd\n",
    "\n",
    "df = pd.DataFrame({'Name':['John', 'Alice', 'Doe'], 'Age': [11, 19, 23]})\n",
    "\n",
    "shape_of_df = df.shape\n",
    "\n",
    "print(shape_of_df)"
   ]
  },
  {
   "cell_type": "markdown",
   "id": "353c1c3f-20c9-45d9-ad3d-c7abfaec005d",
   "metadata": {},
   "source": [
    "Q6 SOLUTION"
   ]
  },
  {
   "cell_type": "markdown",
   "id": "fea5bf61-eeb5-4d1e-9c72-cbf945a26933",
   "metadata": {},
   "source": [
    "\n",
    "In Pandas, you can use the read_excel function to read data from an Excel file. This function is part of the Pandas library and is specifically designed for reading data from Excel files into a Pandas DataFrame.\n",
    "\n",
    "Here's an example of how you can use the read_excel function:"
   ]
  },
  {
   "cell_type": "markdown",
   "id": "61159e5c-033d-439d-8437-a13085dccf8f",
   "metadata": {},
   "source": [
    "import pandas as pd\n",
    "\n",
    "file_path = 'example.xlsx'\n",
    "\n",
    "df = pd.read_excel(file_path)\n",
    "\n",
    "print(df.head())"
   ]
  },
  {
   "cell_type": "markdown",
   "id": "36e3a5eb-48a0-45a1-9a7b-46c786c26ad1",
   "metadata": {},
   "source": [
    "Q7 SOLUTION"
   ]
  },
  {
   "cell_type": "code",
   "execution_count": 4,
   "id": "72fb2e4a-68a7-4b64-b0ae-6500325c39a9",
   "metadata": {},
   "outputs": [
    {
     "name": "stdout",
     "output_type": "stream",
     "text": [
      "               Email Username\n",
      "0  user1@example.com    user1\n",
      "1  user2@example.org    user2\n",
      "2  user3@example.net    user3\n"
     ]
    }
   ],
   "source": [
    "import pandas as pd\n",
    "def extract_username_from_email(df):\n",
    "    if 'Email' not in df.columns:\n",
    "        print(\"Error: 'Email' column not found in the DataFrame.\")\n",
    "        return\n",
    "    df['Username'] = df['Email'].str.extract(r'([^@]+)')\n",
    "df = pd.DataFrame({'Email': ['user1@example.com', 'user2@example.org', 'user3@example.net']})\n",
    "extract_username_from_email(df)\n",
    "print(df)"
   ]
  },
  {
   "cell_type": "markdown",
   "id": "93b150bc-bf7d-40f2-994e-e37346e60e8b",
   "metadata": {},
   "source": [
    "Q8 SOLUTION"
   ]
  },
  {
   "cell_type": "code",
   "execution_count": 5,
   "id": "ee712ec7-c82e-49bf-b8ca-425d7f3ce34d",
   "metadata": {},
   "outputs": [
    {
     "name": "stdout",
     "output_type": "stream",
     "text": [
      "    A  B   C\n",
      "1   6  8   7\n",
      "3  10  5  11\n"
     ]
    }
   ],
   "source": [
    "import pandas as pd\n",
    "\n",
    "def select_rows_condition(df):\n",
    "    if 'A' not in df.columns or 'B' not in df.columns:\n",
    "        print(\"Error: Columns 'A' and 'B' are required in the DataFrame.\")\n",
    "        return None\n",
    "    selected_rows = df[(df['A'] > 5) & (df['B'] < 10)]\n",
    "\n",
    "    return selected_rows\n",
    "\n",
    "df = pd.DataFrame({'A': [4, 6, 8, 10], 'B': [3, 8, 12, 5], 'C': [2, 7, 9, 11]})\n",
    "\n",
    "selected_df = select_rows_condition(df)\n",
    "\n",
    "print(selected_df)"
   ]
  },
  {
   "cell_type": "markdown",
   "id": "3797eaef-6d04-4818-b7a1-a94e6d71d4ba",
   "metadata": {},
   "source": [
    "Q9 SOLUTION"
   ]
  },
  {
   "cell_type": "code",
   "execution_count": 7,
   "id": "393f9b54-0e85-48de-a0a6-7d986f6a9736",
   "metadata": {},
   "outputs": [
    {
     "name": "stdout",
     "output_type": "stream",
     "text": [
      "{'Mean': 20.0, 'Median': 20.0, 'Standard Deviation': 7.905694150420948}\n"
     ]
    }
   ],
   "source": [
    "import pandas as pd\n",
    "\n",
    "def calculate_statistics(df):\n",
    " \n",
    "    if 'Values' not in df.columns:\n",
    "        print(\"Error: 'Values' column not found in the DataFrame.\")\n",
    "        return None\n",
    "\n",
    "    mean_value = df['Values'].mean()\n",
    "    median_value = df['Values'].median()\n",
    "    std_deviation = df['Values'].std()\n",
    "\n",
    "    statistics_dict = {\n",
    "        'Mean': mean_value,\n",
    "        'Median': median_value,\n",
    "        'Standard Deviation': std_deviation\n",
    "    }\n",
    "\n",
    "    return statistics_dict\n",
    "\n",
    "df = pd.DataFrame({'Values': [10, 15, 20, 25, 30]})\n",
    "\n",
    "statistics_result = calculate_statistics(df)\n",
    "\n",
    "print(statistics_result)"
   ]
  },
  {
   "cell_type": "markdown",
   "id": "c179cc71-c0f6-4ae6-b58a-fe357ca38933",
   "metadata": {},
   "source": [
    "Q10 SOLUTION"
   ]
  },
  {
   "cell_type": "code",
   "execution_count": 8,
   "id": "b832a511-4727-451f-a9ca-0f4701a3c06e",
   "metadata": {},
   "outputs": [
    {
     "name": "stdout",
     "output_type": "stream",
     "text": [
      "         Date  Sales  MovingAverage\n",
      "0  2023-01-01     10      10.000000\n",
      "1  2023-01-02     15      12.500000\n",
      "2  2023-01-03     12      12.333333\n",
      "3  2023-01-04     18      13.750000\n",
      "4  2023-01-05     20      15.000000\n",
      "5  2023-01-06     25      16.666667\n",
      "6  2023-01-07     22      17.428571\n",
      "7  2023-01-08     28      20.000000\n",
      "8  2023-01-09     30      22.142857\n",
      "9  2023-01-10     35      25.428571\n",
      "10 2023-01-11     32      27.428571\n",
      "11 2023-01-12     38      30.000000\n",
      "12 2023-01-13     40      32.142857\n",
      "13 2023-01-14     45      35.428571\n",
      "14 2023-01-15     42      37.428571\n",
      "15 2023-01-16     48      40.000000\n",
      "16 2023-01-17     50      42.142857\n",
      "17 2023-01-18     55      45.428571\n",
      "18 2023-01-19     52      47.428571\n",
      "19 2023-01-20     58      50.000000\n"
     ]
    }
   ],
   "source": [
    "import pandas as pd\n",
    "\n",
    "def calculate_moving_average(df):\n",
    "  \n",
    "    if 'Sales' not in df.columns or 'Date' not in df.columns:\n",
    "        print(\"Error: 'Sales' and 'Date' columns are required in the DataFrame.\")\n",
    "        return None\n",
    "\n",
    "    df = df.sort_values(by='Date')\n",
    "\n",
    "    df['MovingAverage'] = df['Sales'].rolling(window=7, min_periods=1).mean()\n",
    "\n",
    "    return df\n",
    "\n",
    "df = pd.DataFrame({\n",
    "    'Date': pd.date_range(start='2023-01-01', periods=20),\n",
    "    'Sales': [10, 15, 12, 18, 20, 25, 22, 28, 30, 35, 32, 38, 40, 45, 42, 48, 50, 55, 52, 58]\n",
    "})\n",
    "\n",
    "df_with_ma = calculate_moving_average(df)\n",
    "\n",
    "print(df_with_ma)"
   ]
  },
  {
   "cell_type": "markdown",
   "id": "a4ee45d0-8a6f-4a76-a7c4-2fe95d914b72",
   "metadata": {},
   "source": [
    "Q11 SOLUTION"
   ]
  },
  {
   "cell_type": "code",
   "execution_count": 17,
   "id": "ea0146e9-b27c-4ac4-9b42-796de842021a",
   "metadata": {},
   "outputs": [
    {
     "name": "stdout",
     "output_type": "stream",
     "text": [
      "        Date    Weekday\n",
      "0 2023-01-01     Sunday\n",
      "1 2023-01-02     Monday\n",
      "2 2023-01-03    Tuesday\n",
      "3 2023-01-04  Wednesday\n",
      "4 2023-01-05   Thursday\n"
     ]
    }
   ],
   "source": [
    "import pandas as pd\n",
    "def week_day(df):\n",
    "    if 'Date' not in df.columns:\n",
    "        print(\"Error\")\n",
    "        return None\n",
    "    df = df.sort_values(by='Date')\n",
    "    \n",
    "    df['Weekday'] = df['Date'].dt.day_name()\n",
    "    return df\n",
    "df = pd.DataFrame({'Date': pd.date_range(start='2023-01-01', periods=5)})\n",
    "df_weekday = week_day(df)\n",
    "print(df_weekday)"
   ]
  },
  {
   "cell_type": "markdown",
   "id": "6c813066-7c36-46d8-9e7b-a7aa693d82c8",
   "metadata": {},
   "source": [
    "Q12 SOLUTION "
   ]
  },
  {
   "cell_type": "code",
   "execution_count": 3,
   "id": "c0c35196-ce60-4a70-9f69-ded228ce5c58",
   "metadata": {},
   "outputs": [
    {
     "name": "stdout",
     "output_type": "stream",
     "text": [
      "         Date\n",
      "0  2023-01-01\n",
      "1  2023-01-02\n",
      "2  2023-01-03\n",
      "3  2023-01-04\n",
      "4  2023-01-05\n",
      "5  2023-01-06\n",
      "6  2023-01-07\n",
      "7  2023-01-08\n",
      "8  2023-01-09\n",
      "9  2023-01-10\n",
      "10 2023-01-11\n",
      "11 2023-01-12\n",
      "12 2023-01-13\n",
      "13 2023-01-14\n",
      "14 2023-01-15\n",
      "15 2023-01-16\n",
      "16 2023-01-17\n",
      "17 2023-01-18\n",
      "18 2023-01-19\n",
      "19 2023-01-20\n",
      "20 2023-01-21\n",
      "21 2023-01-22\n",
      "22 2023-01-23\n",
      "23 2023-01-24\n",
      "24 2023-01-25\n",
      "25 2023-01-26\n",
      "26 2023-01-27\n",
      "27 2023-01-28\n",
      "28 2023-01-29\n",
      "29 2023-01-30\n",
      "30 2023-01-31\n"
     ]
    }
   ],
   "source": [
    "import pandas as pd\n",
    "\n",
    "def select_rows_by_date_range(df, start_date, end_date):\n",
    "   \n",
    "    if 'Date' not in df.columns:\n",
    "        print(\"Error: 'Date' column not found in the DataFrame.\")\n",
    "        return None\n",
    "\n",
    "    df['Date'] = pd.to_datetime(df['Date'])\n",
    "\n",
    "    selected_rows = df[(df['Date'] >= start_date) & (df['Date'] <= end_date)]\n",
    "\n",
    "    return selected_rows\n",
    "\n",
    "df = pd.DataFrame({'Date': pd.date_range(start='2023-01-01', periods=31)})\n",
    "\n",
    "start_date = '2023-01-01'\n",
    "end_date = '2023-01-31'\n",
    "\n",
    "selected_df = select_rows_by_date_range(df, start_date, end_date)\n",
    "\n",
    "print(selected_df)"
   ]
  },
  {
   "cell_type": "markdown",
   "id": "9414e53b-7598-4c5f-ae50-920ffb16242d",
   "metadata": {},
   "source": [
    "Q13 SOLUTION"
   ]
  },
  {
   "cell_type": "markdown",
   "id": "a944f066-5854-4169-8c72-1c246e9ce07b",
   "metadata": {},
   "source": [
    "\n",
    "To use the basic functions of Pandas, you need to import the Pandas library. You can do this using the following import statement:"
   ]
  },
  {
   "cell_type": "code",
   "execution_count": 1,
   "id": "dafdd904-da3b-4558-a7c9-e99467c7d422",
   "metadata": {},
   "outputs": [],
   "source": [
    "import pandas as pd"
   ]
  },
  {
   "cell_type": "code",
   "execution_count": null,
   "id": "7d58d84a-e859-44d8-a6dc-a5bbbb093ac5",
   "metadata": {},
   "outputs": [],
   "source": [
    "End of Assignment"
   ]
  }
 ],
 "metadata": {
  "kernelspec": {
   "display_name": "Python 3 (ipykernel)",
   "language": "python",
   "name": "python3"
  },
  "language_info": {
   "codemirror_mode": {
    "name": "ipython",
    "version": 3
   },
   "file_extension": ".py",
   "mimetype": "text/x-python",
   "name": "python",
   "nbconvert_exporter": "python",
   "pygments_lexer": "ipython3",
   "version": "3.10.8"
  }
 },
 "nbformat": 4,
 "nbformat_minor": 5
}
