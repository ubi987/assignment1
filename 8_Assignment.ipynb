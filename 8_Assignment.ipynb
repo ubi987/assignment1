{
 "cells": [
  {
   "cell_type": "markdown",
   "id": "3a5ee1f2-15a1-4240-af67-190e6190b554",
   "metadata": {},
   "source": [
    "Q1 SOLUTION:"
   ]
  },
  {
   "cell_type": "markdown",
   "id": "094dc36c-9964-4708-9ad9-37099ed4a523",
   "metadata": {},
   "source": [
    "An exception is an event, which occurs during the execution of a program that disrupts the normal flow of the program's instructions. In general, when a Python script encounters a situation that it cannot cope with, it raises an exception. An exception is a Python object that represents an error."
   ]
  },
  {
   "cell_type": "markdown",
   "id": "fe0e2656-3645-4867-820d-c6d644bfbbcb",
   "metadata": {},
   "source": [
    "Exceptions can be caught and handled in order to keep the program working for the exceptional situation as well, instead of halting the program flow. If the exception is not handled, then it can result in the termination of the program. Exceptions can be used to indicate that an error has occurred in the program."
   ]
  },
  {
   "cell_type": "markdown",
   "id": "4a4ffbac-2c70-4172-9440-7039b0e53c5d",
   "metadata": {},
   "source": [
    "Difference between syntax errors and Exceptions:"
   ]
  },
  {
   "cell_type": "markdown",
   "id": "f7d6d80e-6a1a-4f13-b975-923c85b118c8",
   "metadata": {},
   "source": [
    "A syntax error occurs when the structure of a program does not conform to the rules of the programming language. Syntax errors are usually detected by the compiler or interpreter when the program is being compiled or executed, and they prevent the program from running. Syntax errors are usually caused by mistakes in the source code, such as typos, omissions, or incorrect use of syntax.\n",
    "\n",
    "An exception is an abnormal event that occurs during the execution of a program. Exceptions are usually caused by runtime errors, such as dividing by zero, trying to access an element in an array with an out-of-bounds index, or trying to access a file that does not exist. Exceptions are not syntax errors, but they can still prevent the program from running if they are not handled properly.\n",
    "\n",
    "In many programming languages, exceptions are handled using try-catch blocks. When an exception is thrown, the program will try to execute the code in the catch block, which can handle the exception and allow the program to continue running. If the exception is not caught, the program will terminate.\n",
    "\n",
    "To summarize, a syntax error is a mistake in the structure of the program that prevents it from running, while an exception is an abnormal event that occurs during the execution of the program and can be handled to allow the program to continue running."
   ]
  },
  {
   "cell_type": "markdown",
   "id": "0f6446db-d412-4d99-9aac-65a530a2e39c",
   "metadata": {},
   "source": [
    "Q2 SOLUTION:"
   ]
  },
  {
   "cell_type": "markdown",
   "id": "dcf7fd20-1f33-4a0c-8b08-9136613e8cec",
   "metadata": {},
   "source": [
    "When an exception occurred, if you don't handle it, the program terminates abruptly and the code past the line that caused the exception will not get executed."
   ]
  },
  {
   "cell_type": "markdown",
   "id": "4f91f294-1d5c-43ad-ad07-22b9f15f64d7",
   "metadata": {},
   "source": [
    "If an exception is not caught (with a catch block), the runtime system will abort the program (i.e. crash)"
   ]
  },
  {
   "cell_type": "markdown",
   "id": "8e2fab3f-31f0-4bc5-bef1-059e39f42795",
   "metadata": {},
   "source": [
    "Example:"
   ]
  },
  {
   "cell_type": "code",
   "execution_count": 5,
   "id": "34d6ea59-04b4-4b43-97d1-c914d06e05b6",
   "metadata": {},
   "outputs": [],
   "source": [
    "#In this example we will handle exception\n",
    "a = 45\n",
    "b = 0\n",
    "import logging\n",
    "logging.basicConfig(filename = \"test.log\", filemode = \"w\", level = logging.ERROR)\n",
    "try:\n",
    "    a/b\n",
    "except ZeroDivisionError as e:\n",
    "    logging.error(e)\n",
    "    "
   ]
  },
  {
   "cell_type": "code",
   "execution_count": 6,
   "id": "67226bbc-2f5a-4684-b91b-2d5964805fa0",
   "metadata": {},
   "outputs": [
    {
     "ename": "ZeroDivisionError",
     "evalue": "division by zero",
     "output_type": "error",
     "traceback": [
      "\u001b[0;31m---------------------------------------------------------------------------\u001b[0m",
      "\u001b[0;31mZeroDivisionError\u001b[0m                         Traceback (most recent call last)",
      "Cell \u001b[0;32mIn[6], line 4\u001b[0m\n\u001b[1;32m      2\u001b[0m a \u001b[38;5;241m=\u001b[39m \u001b[38;5;241m45\u001b[39m\n\u001b[1;32m      3\u001b[0m b \u001b[38;5;241m=\u001b[39m \u001b[38;5;241m0\u001b[39m\n\u001b[0;32m----> 4\u001b[0m \u001b[43ma\u001b[49m\u001b[38;5;241;43m/\u001b[39;49m\u001b[43mb\u001b[49m\n",
      "\u001b[0;31mZeroDivisionError\u001b[0m: division by zero"
     ]
    }
   ],
   "source": [
    "#Look what happens if we don't handle exception, the program will terminate\n",
    "a = 45\n",
    "b = 0\n",
    "a/b"
   ]
  },
  {
   "cell_type": "markdown",
   "id": "1a2c2869-12ca-4fcf-a0a6-b07b7629f01f",
   "metadata": {},
   "source": [
    "Q3 SOLUTION:"
   ]
  },
  {
   "cell_type": "markdown",
   "id": "d4803b6a-8c1f-46b7-bd31-e106aa4fd71c",
   "metadata": {},
   "source": [
    "The try and except block in Python is used to catch and handle exceptions. Python executes code following the try statement as a “normal” part of the program. The code that follows the except statement is the program’s response to any exceptions in the preceding try clause."
   ]
  },
  {
   "cell_type": "code",
   "execution_count": 3,
   "id": "8f266a10-2b91-4161-b797-b28a096b02e6",
   "metadata": {},
   "outputs": [],
   "source": [
    "a = 90\n",
    "b = 0\n",
    "import logging\n",
    "logging.basicConfig(filename = \"test1.log\", filemode = \"w\", level = logging.ERROR)\n",
    "try:\n",
    "    a/b\n",
    "except ZeroDivisionError as e:\n",
    "    logging.error(e)\n"
   ]
  },
  {
   "cell_type": "markdown",
   "id": "e6964e15-78b3-4c19-97d7-cee6e6249d40",
   "metadata": {},
   "source": [
    "Q4 SOLUTION:"
   ]
  },
  {
   "cell_type": "markdown",
   "id": "6c1deaa5-7da7-4c3c-9753-4b3c4bb07bf0",
   "metadata": {},
   "source": [
    "(A):"
   ]
  },
  {
   "cell_type": "markdown",
   "id": "f2ac2264-1002-4b79-8ecc-1f9a69357e10",
   "metadata": {},
   "source": [
    "Try: This block will test the excepted error to occur\n",
    "\n",
    "Else: If there is no exception then this block will be executed"
   ]
  },
  {
   "cell_type": "markdown",
   "id": "a1c2f4e5-54c7-4d06-b157-f13658c9ceca",
   "metadata": {},
   "source": [
    "Example:"
   ]
  },
  {
   "cell_type": "code",
   "execution_count": 10,
   "id": "a4d90349-ea31-4444-bb0e-96d32eee3218",
   "metadata": {},
   "outputs": [
    {
     "name": "stdin",
     "output_type": "stream",
     "text": [
      "Enter value of a 5\n",
      "Enter value of b 5\n"
     ]
    }
   ],
   "source": [
    "import logging\n",
    "logging.basicConfig(filename= \"test2.log\", filemode = \"w\", level = logging.INFO)\n",
    "def div(a,b):\n",
    "    try:\n",
    "        c = a/b\n",
    "    except ZeroDivisionError as e:\n",
    "        logging.error(e)\n",
    "    else:\n",
    "        logging.info(f\"The result is {c}\")\n",
    "a = int(input(\"Enter value of a: \"))\n",
    "b = int(input(\"Enter value of b: \"))\n",
    "div(a,b)"
   ]
  },
  {
   "cell_type": "markdown",
   "id": "58b6d943-b838-4a1a-88d6-78cabd0c78bb",
   "metadata": {},
   "source": [
    "(B):"
   ]
  },
  {
   "cell_type": "markdown",
   "id": "48e18a5b-8217-4268-996a-554b6d962392",
   "metadata": {},
   "source": [
    "Finally:\n",
    "Python provides a keyword finally, which is always executed after try and except blocks. The finally block always executes after normal termination of try block or after try block terminates due to some exception. Even if you return in the except block still the finally block will execute"
   ]
  },
  {
   "cell_type": "code",
   "execution_count": 2,
   "id": "801e92df-ef50-43d8-8676-73192ea7b5c1",
   "metadata": {},
   "outputs": [
    {
     "name": "stdin",
     "output_type": "stream",
     "text": [
      "Enter value of a:  5\n",
      "Enter value of b:  6\n"
     ]
    }
   ],
   "source": [
    "import logging\n",
    "logging.basicConfig(filename= \"test3.log\", filemode = \"w\", level = logging.INFO)\n",
    "def div(a,b):\n",
    "    try:\n",
    "        c = a/b\n",
    "    except ZeroDivisionError as e:\n",
    "        logging.error(e)\n",
    "    else:\n",
    "        logging.info(f\"The result is {c}\")\n",
    "    finally:\n",
    "        logging.info(f\"This is always executed\")\n",
    "a = int(input(\"Enter value of a: \"))\n",
    "b = int(input(\"Enter value of b: \"))\n",
    "div(a,b)"
   ]
  },
  {
   "cell_type": "markdown",
   "id": "d892e414-5b12-4c3b-8389-50d76f29061a",
   "metadata": {},
   "source": [
    "(C):"
   ]
  },
  {
   "cell_type": "markdown",
   "id": "e8dd34fc-3da4-4a7b-b5be-0b3cc45628f5",
   "metadata": {},
   "source": [
    "Python raise Keyword is used to raise exceptions or errors. The raise keyword raises an error and stops the control flow of the program. It is used to bring up the current exception in an exception handler so that it can be handled further up the call stack."
   ]
  },
  {
   "cell_type": "code",
   "execution_count": 3,
   "id": "0b0d8135-a5ef-4815-af51-8beda7a9b17d",
   "metadata": {},
   "outputs": [
    {
     "name": "stdin",
     "output_type": "stream",
     "text": [
      "Enter the value of a:  5\n"
     ]
    },
    {
     "ename": "Exception",
     "evalue": "The number shouldn't be an odd integer",
     "output_type": "error",
     "traceback": [
      "\u001b[0;31m---------------------------------------------------------------------------\u001b[0m",
      "\u001b[0;31mException\u001b[0m                                 Traceback (most recent call last)",
      "Cell \u001b[0;32mIn[3], line 3\u001b[0m\n\u001b[1;32m      1\u001b[0m a \u001b[38;5;241m=\u001b[39m \u001b[38;5;28mint\u001b[39m(\u001b[38;5;28minput\u001b[39m(\u001b[38;5;124m\"\u001b[39m\u001b[38;5;124mEnter the value of a: \u001b[39m\u001b[38;5;124m\"\u001b[39m))\n\u001b[1;32m      2\u001b[0m \u001b[38;5;28;01mif\u001b[39;00m a\u001b[38;5;241m%\u001b[39m\u001b[38;5;241m2\u001b[39m \u001b[38;5;241m!=\u001b[39m \u001b[38;5;241m0\u001b[39m:\n\u001b[0;32m----> 3\u001b[0m   \u001b[38;5;28;01mraise\u001b[39;00m \u001b[38;5;167;01mException\u001b[39;00m(\u001b[38;5;124m\"\u001b[39m\u001b[38;5;124mThe number shouldn\u001b[39m\u001b[38;5;124m'\u001b[39m\u001b[38;5;124mt be an odd integer\u001b[39m\u001b[38;5;124m\"\u001b[39m)\n",
      "\u001b[0;31mException\u001b[0m: The number shouldn't be an odd integer"
     ]
    }
   ],
   "source": [
    "a = int(input(\"Enter the value of a: \"))\n",
    "if a%2 != 0:\n",
    "  raise Exception(\"The number shouldn't be an odd integer\")"
   ]
  },
  {
   "cell_type": "markdown",
   "id": "913cb492-8140-4b7d-af42-8fdfc684795b",
   "metadata": {},
   "source": [
    "Q5 SOLUTION:"
   ]
  },
  {
   "cell_type": "markdown",
   "id": "6a76e56e-1bfa-477b-b1a4-2e5ecdd0d6d4",
   "metadata": {},
   "source": [
    "Custom or User-defined Exceptions are designed as per the requirement of the program. Using custom Exception we can have our own Exception and a meaningful message explaining the cause of the exception."
   ]
  },
  {
   "cell_type": "markdown",
   "id": "c9e92d7f-76e3-41f4-a0de-224e5a5e5d14",
   "metadata": {},
   "source": [
    "We need Custom exceptions because Custom exceptions provide us the flexibility to add attributes and methods that are not part of a standard Python exception. These can store additional information, like an application-specific error code, or provide utility methods that can be used to handle or present the exception to a user."
   ]
  },
  {
   "cell_type": "code",
   "execution_count": 1,
   "id": "96fc0349-3b85-421e-9eb0-2c76fa6d71fe",
   "metadata": {},
   "outputs": [
    {
     "name": "stdin",
     "output_type": "stream",
     "text": [
      "Enter your age:  -35\n"
     ]
    }
   ],
   "source": [
    "import logging\n",
    "logging.basicConfig(filename= \"test4.log\", filemode = \"a\", level = logging.INFO)\n",
    "class InvalidAgeError(Exception):\n",
    "  def __init__(self, value):\n",
    "    self.value = value\n",
    "\n",
    "def func(age):\n",
    "  if age<0:\n",
    "    raise InvalidAgeError(\"Age cannot be negative\")\n",
    "  elif age>150:\n",
    "    raise InvalidAgeError (\"Age is too big\")\n",
    "  else:\n",
    "    logging.info(\"Age is valid\")\n",
    "try:\n",
    "  age = int(input(\"Enter your age: \"))\n",
    "  func(age)\n",
    "except InvalidAgeError as e:\n",
    "  logging.error(e.value)"
   ]
  },
  {
   "cell_type": "markdown",
   "id": "7a0837f3-01ab-4c4c-82f5-923632c0f7ff",
   "metadata": {},
   "source": [
    "Q6 SOLUTION:"
   ]
  },
  {
   "cell_type": "code",
   "execution_count": 1,
   "id": "329d01dd-2416-41a5-acc9-711b67bc47f9",
   "metadata": {},
   "outputs": [
    {
     "name": "stdin",
     "output_type": "stream",
     "text": [
      "Enter your salary expectation:  -56\n"
     ]
    }
   ],
   "source": [
    "import logging\n",
    "logging.basicConfig(filename=\"test5.log\", filemode=\"a\", level= logging.INFO)\n",
    "\n",
    "class InvalidSalary(Exception):\n",
    "  def __init__(self, value):\n",
    "    self.value = value\n",
    "\n",
    "def func(salary):\n",
    "  if salary<0:\n",
    "    raise InvalidSalary(\"Salary can't be negative\")\n",
    "  else:\n",
    "    logging.info(f\"Your salary expectation is {salary}\")\n",
    "\n",
    "try:\n",
    "  salary = int(input(\"Enter your salary expectation: \"))\n",
    "  func(salary)\n",
    "\n",
    "except InvalidSalary as e:\n",
    "  logging.error(e.value)"
   ]
  },
  {
   "cell_type": "markdown",
   "id": "373487b5-b22d-48b5-b310-fe59f415bf64",
   "metadata": {},
   "source": [
    "End of assignment"
   ]
  },
  {
   "cell_type": "code",
   "execution_count": null,
   "id": "f02e12e7-df6b-45f7-860d-d76164776b14",
   "metadata": {},
   "outputs": [],
   "source": []
  }
 ],
 "metadata": {
  "kernelspec": {
   "display_name": "Python 3 (ipykernel)",
   "language": "python",
   "name": "python3"
  },
  "language_info": {
   "codemirror_mode": {
    "name": "ipython",
    "version": 3
   },
   "file_extension": ".py",
   "mimetype": "text/x-python",
   "name": "python",
   "nbconvert_exporter": "python",
   "pygments_lexer": "ipython3",
   "version": "3.10.8"
  }
 },
 "nbformat": 4,
 "nbformat_minor": 5
}
