{
 "cells": [
  {
   "cell_type": "markdown",
   "id": "733f3edf-a57f-4f12-8860-cbec9520289f",
   "metadata": {},
   "source": [
    "Q1 SOLUTION"
   ]
  },
  {
   "cell_type": "code",
   "execution_count": 1,
   "id": "474d36bd-0667-4c3d-b04a-0915df660082",
   "metadata": {},
   "outputs": [
    {
     "name": "stdout",
     "output_type": "stream",
     "text": [
      "Vehicle name = Honda\n",
      "Vehicle max speed = 200\n",
      "Vehicle average = 15\n"
     ]
    }
   ],
   "source": [
    "class Vehicle:\n",
    "  def __init__(self, vehicle_name, max_speed, average_of_vehicle):\n",
    "    self.vehicle_name = vehicle_name\n",
    "    self.max_speed = max_speed\n",
    "    self.average_of_vehicle = average_of_vehicle\n",
    "model1 = Vehicle(\"Honda\", 200, 15)\n",
    "print(\"Vehicle name =\", model1.vehicle_name)\n",
    "print(\"Vehicle max speed =\", model1.max_speed)\n",
    "print(\"Vehicle average =\", model1.average_of_vehicle)"
   ]
  },
  {
   "cell_type": "markdown",
   "id": "81f15b20-8a69-4f62-aa07-f12305c202df",
   "metadata": {},
   "source": [
    "Q2 SOLUTION:"
   ]
  },
  {
   "cell_type": "code",
   "execution_count": 2,
   "id": "e0faf592-49cf-4a54-845b-a5114c259b50",
   "metadata": {},
   "outputs": [
    {
     "name": "stdout",
     "output_type": "stream",
     "text": [
      "Toyota, Seating Capacity: 5\n"
     ]
    }
   ],
   "source": [
    "class Vehicle:\n",
    "  def __init__(self, vehicle_name, max_speed, average_of_vehicle):\n",
    "    self.vehicle_name = vehicle_name\n",
    "    self.max_speed = max_speed\n",
    "    self.average_of_vehicle = average_of_vehicle\n",
    "\n",
    "class Car(Vehicle):\n",
    "  def seating_capacity(self, capacity):\n",
    "    return f\"{self.vehicle_name}, Seating Capacity: {capacity}\"\n",
    "\n",
    "model2 = Car(\"Toyota\", 250, 10)\n",
    "print(model2.seating_capacity(5))"
   ]
  },
  {
   "cell_type": "markdown",
   "id": "891d6269-0a3d-415b-9926-581f68e44ad9",
   "metadata": {},
   "source": [
    "Q3 SOLUTION:"
   ]
  },
  {
   "cell_type": "markdown",
   "id": "808bce5b-5d4d-4af3-9a76-18e4139fc0e7",
   "metadata": {},
   "source": [
    "In multiple inheritance, a single child class is inherited from two or more parent classes."
   ]
  },
  {
   "cell_type": "code",
   "execution_count": 3,
   "id": "1653eb47-5b44-47e7-838d-11056afea111",
   "metadata": {},
   "outputs": [
    {
     "name": "stdout",
     "output_type": "stream",
     "text": [
      "Rohan has Blue eyes\n",
      "Rohan has Golden Hair\n",
      "Rohan has Sharp Nose\n"
     ]
    }
   ],
   "source": [
    "class Father:\n",
    "  def eyes(self):\n",
    "    return \"Blue eyes\"\n",
    "\n",
    "class Mother:\n",
    "  def hair(self):\n",
    "    return \"Golden Hair\"\n",
    "\n",
    "class Child(Father, Mother):\n",
    "  def nose(self):\n",
    "    return \"Sharp Nose\"\n",
    "\n",
    "child_rohan = Child()\n",
    "print(\"Rohan has\", child_rohan.eyes())\n",
    "print(\"Rohan has\", child_rohan.hair())\n",
    "print(\"Rohan has\", child_rohan.nose())"
   ]
  },
  {
   "cell_type": "markdown",
   "id": "24d83b30-70eb-4ade-a60b-5d69dbc2be42",
   "metadata": {},
   "source": [
    "Q4 Solution:"
   ]
  },
  {
   "cell_type": "markdown",
   "id": "b42b7fea-36fa-4c45-b716-bf308d5ce441",
   "metadata": {},
   "source": [
    "Getter is a method that allows you to access an attribute in a given class.\n",
    "Setter is a method that allows you to set or mutate the value of an attribute in a class"
   ]
  },
  {
   "cell_type": "code",
   "execution_count": 1,
   "id": "998580c0-7f3d-46bf-86a2-ee6ae5610e23",
   "metadata": {},
   "outputs": [
    {
     "name": "stdout",
     "output_type": "stream",
     "text": [
      "Rahul\n",
      "Raj\n"
     ]
    }
   ],
   "source": [
    "class Human:\n",
    "  def __init__(self, name, age):\n",
    "    self.__name = name\n",
    "    self.__age = age\n",
    "\n",
    "  def get_name(self):\n",
    "    return self.__name\n",
    "\n",
    "  def set_name(self, name):\n",
    "    self.__name = name\n",
    "\n",
    "human1 = Human(\"Rahul\", 25)\n",
    "\n",
    "print(human1.get_name())\n",
    "\n",
    "human1.set_name(\"Raj\")\n",
    "print(human1.get_name())"
   ]
  },
  {
   "cell_type": "markdown",
   "id": "29b18821-6f83-44e3-a6e6-06057e8835ff",
   "metadata": {},
   "source": [
    "Q5 SOLUTION:"
   ]
  },
  {
   "cell_type": "markdown",
   "id": "1278b331-92f0-4164-abdc-e687603bc90d",
   "metadata": {},
   "source": [
    "Method overriding is an ability of python language that allows a subclass or child class to provide a specific implementation of a method that is already provided by one of its super-classes or parent classes.\n",
    "Method Overriding in Python is an OOPs concept closely related to inheritance. When a child class method overrides(or, provides it's own implementation) the parent class method of the same name, parameters and return type, it is known as method overriding."
   ]
  },
  {
   "cell_type": "code",
   "execution_count": 1,
   "id": "c91270ee-aafa-462c-bda2-b2c89b56179e",
   "metadata": {},
   "outputs": [
    {
     "name": "stdout",
     "output_type": "stream",
     "text": [
      "I have black hair\n",
      "I have golden eyes\n"
     ]
    }
   ],
   "source": [
    "class Parent:\n",
    "  def hair(self):\n",
    "    return \"I have golden hair\"\n",
    "  def eyes(self):\n",
    "    return \"I have golden eyes\"\n",
    "\n",
    "class Child(Parent):\n",
    "  def hair(self):\n",
    "    return \"I have black hair\"\n",
    "\n",
    "child = Child()\n",
    "print(child.hair())\n",
    "print(child.eyes())"
   ]
  },
  {
   "cell_type": "code",
   "execution_count": null,
   "id": "2c073f65-4564-4a2e-9903-82c6d4c72e6f",
   "metadata": {},
   "outputs": [],
   "source": []
  }
 ],
 "metadata": {
  "kernelspec": {
   "display_name": "Python 3 (ipykernel)",
   "language": "python",
   "name": "python3"
  },
  "language_info": {
   "codemirror_mode": {
    "name": "ipython",
    "version": 3
   },
   "file_extension": ".py",
   "mimetype": "text/x-python",
   "name": "python",
   "nbconvert_exporter": "python",
   "pygments_lexer": "ipython3",
   "version": "3.10.8"
  }
 },
 "nbformat": 4,
 "nbformat_minor": 5
}
