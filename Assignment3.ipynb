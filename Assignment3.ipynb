{
 "cells": [
  {
   "cell_type": "markdown",
   "id": "ffa5fd12-3852-4c2e-9846-1bd8a83b5144",
   "metadata": {},
   "source": [
    "Q1 Solution:"
   ]
  },
  {
   "cell_type": "markdown",
   "id": "3440afa3-4c36-4a25-a338-724107b34de5",
   "metadata": {},
   "source": [
    "The keyword used to create function is \"def\"."
   ]
  },
  {
   "cell_type": "markdown",
   "id": "1be3fea4-54ca-4775-87de-6fca3fccc63d",
   "metadata": {},
   "source": [
    "def func():\n",
    "  list = []\n",
    "  for i in range(1,26,2):\n",
    "    list.append(i)\n",
    "  return list\n",
    "print(func())"
   ]
  },
  {
   "cell_type": "markdown",
   "id": "8048e0ba-760c-47e4-8ed1-568df5af3b33",
   "metadata": {},
   "source": [
    "Q2 Solution:"
   ]
  },
  {
   "cell_type": "markdown",
   "id": "d21b6043-9d19-45fa-95e5-35695b8c148a",
   "metadata": {},
   "source": [
    "If we want to pass a large number of data values as arguments to the function we use args or kwargs. We cannot always define the number of parameters in the function according to the values passed in the function. We cannot define suppose 10 or 100 variables in the function if we have passed 100s values to the function for performing a mathematical operation."
   ]
  },
  {
   "cell_type": "code",
   "execution_count": 2,
   "id": "3e16f183-e541-4991-a00b-46dd12b2c366",
   "metadata": {},
   "outputs": [
    {
     "name": "stdout",
     "output_type": "stream",
     "text": [
      "15\n"
     ]
    }
   ],
   "source": [
    "#args\n",
    "def func1(*args):\n",
    "  sum = 0\n",
    "  for i in args:\n",
    "    sum = sum + i\n",
    "  return sum\n",
    "print(func1(1,2,3,4,5))"
   ]
  },
  {
   "cell_type": "code",
   "execution_count": 3,
   "id": "54ff287b-3b68-4c88-a545-3bb7518d4bca",
   "metadata": {},
   "outputs": [
    {
     "name": "stdout",
     "output_type": "stream",
     "text": [
      "Name : Shakir\n",
      "age : 25\n",
      "course : data science\n"
     ]
    }
   ],
   "source": [
    "#kwargs\n",
    "def func2(**kwargs):\n",
    "  for keys, values in kwargs.items():\n",
    "    print(f\"{keys} : {values}\")\n",
    "func2(Name = \"Shakir\", age = 25, course = \"data science\")"
   ]
  },
  {
   "cell_type": "markdown",
   "id": "9568da17-6895-4771-97d6-d7ce6996ce3b",
   "metadata": {},
   "source": [
    "Q3 Solution"
   ]
  },
  {
   "cell_type": "markdown",
   "id": "bc8635f8-356a-436b-bc7a-472aa1ac5b5f",
   "metadata": {},
   "source": [
    "Iterator: An Iterator is an object that helps a user in iterating over another object that is iterable such as List, Set, etc."
   ]
  },
  {
   "cell_type": "markdown",
   "id": "149b5184-cbd7-465b-8deb-24b75693cb19",
   "metadata": {},
   "source": [
    "The method used to initialise the iterator object is iter()"
   ]
  },
  {
   "cell_type": "markdown",
   "id": "bccffa37-b521-4f44-aac6-3f6dd62a8ccd",
   "metadata": {},
   "source": [
    "The next() method is used to iterate over the iterable objects. The next() method returns the next value in the iterable object"
   ]
  },
  {
   "cell_type": "code",
   "execution_count": 5,
   "id": "8240c02f-6c1f-4332-ab99-0d6776cce847",
   "metadata": {},
   "outputs": [
    {
     "name": "stdout",
     "output_type": "stream",
     "text": [
      "2\n",
      "4\n",
      "6\n",
      "8\n",
      "10\n"
     ]
    }
   ],
   "source": [
    "list = [2, 4, 6, 8, 10, 12, 14, 16, 18, 20]\n",
    "list1 = iter(list)\n",
    "print(next(list1))\n",
    "print(next(list1))\n",
    "print(next(list1))\n",
    "print(next(list1))\n",
    "print(next(list1))"
   ]
  },
  {
   "cell_type": "markdown",
   "id": "3e0daa3f-c558-496d-a688-3fb9ebf8c04c",
   "metadata": {},
   "source": [
    "Q4 Solution"
   ]
  },
  {
   "cell_type": "markdown",
   "id": "6f51311f-9441-478c-9c29-cc8f49da7ff0",
   "metadata": {},
   "source": [
    "A generator is a special type of function which does not return a single value, instead, it returns an iterator object that produces a sequence of values when iterated over. In a generator function, a yield statement is used rather than a return statement."
   ]
  },
  {
   "cell_type": "markdown",
   "id": "8a0f12f1-96ef-45e7-8381-027daf644316",
   "metadata": {},
   "source": [
    "The yield keyword in Python controls the flow of a generator function. This is similar to a return statement used for returning values in Python. However, there is a difference.\n",
    "\n",
    "When you call a function that has a yield statement, as soon as a yield is encountered, the execution of the function halts and returns a generator iterator object instead of simply returning a value."
   ]
  },
  {
   "cell_type": "code",
   "execution_count": 1,
   "id": "7c9f385e-23bd-43c3-92e8-e27628364fc7",
   "metadata": {},
   "outputs": [
    {
     "name": "stdout",
     "output_type": "stream",
     "text": [
      "0\n",
      "1\n",
      "2\n",
      "3\n",
      "4\n",
      "5\n"
     ]
    }
   ],
   "source": [
    "def gen():\n",
    "  count = 0\n",
    "  while count < 6:\n",
    "    yield count\n",
    "    count = count + 1\n",
    "gen()\n",
    "for j in gen():\n",
    "  print(j)"
   ]
  },
  {
   "cell_type": "code",
   "execution_count": 3,
   "id": "66a2494a-cae7-4c6d-b7c7-e806b8dd7ed2",
   "metadata": {},
   "outputs": [
    {
     "name": "stdout",
     "output_type": "stream",
     "text": [
      "0\n",
      "1\n",
      "2\n",
      "3\n"
     ]
    }
   ],
   "source": [
    "def gen():\n",
    "  count = 0\n",
    "  while count < 6:\n",
    "    yield count\n",
    "    count = count + 1\n",
    "gen1 = gen()\n",
    "print(next(gen1))\n",
    "print(next(gen1))\n",
    "print(next(gen1))\n",
    "print(next(gen1))"
   ]
  },
  {
   "cell_type": "markdown",
   "id": "e62fcd23-0e66-4cf7-a9ad-880543d8cb3f",
   "metadata": {},
   "source": [
    "Q5 Solution"
   ]
  },
  {
   "cell_type": "code",
   "execution_count": 1,
   "id": "5c488550-dde4-4d85-9c21-b1ef9bc68100",
   "metadata": {},
   "outputs": [
    {
     "name": "stdout",
     "output_type": "stream",
     "text": [
      "2\n",
      "3\n",
      "5\n",
      "7\n",
      "11\n",
      "13\n",
      "17\n",
      "19\n",
      "23\n",
      "29\n",
      "31\n",
      "37\n",
      "41\n",
      "43\n",
      "47\n",
      "53\n",
      "59\n",
      "61\n",
      "67\n",
      "71\n"
     ]
    }
   ],
   "source": [
    "def primary():\n",
    "  for num in range(1000):\n",
    "    if num > 1:\n",
    "      for i in range(2, num):\n",
    "        if num% i == 0:\n",
    "          break\n",
    "      else: \n",
    "        yield num\n",
    "gen = primary()\n",
    "print(next(gen))\n",
    "print(next(gen))\n",
    "print(next(gen))\n",
    "print(next(gen))\n",
    "print(next(gen))\n",
    "print(next(gen))\n",
    "print(next(gen))\n",
    "print(next(gen))\n",
    "print(next(gen))\n",
    "print(next(gen))\n",
    "print(next(gen))\n",
    "print(next(gen))\n",
    "print(next(gen))\n",
    "print(next(gen))\n",
    "print(next(gen))\n",
    "print(next(gen))\n",
    "print(next(gen))\n",
    "print(next(gen))\n",
    "print(next(gen))\n",
    "print(next(gen))"
   ]
  },
  {
   "cell_type": "markdown",
   "id": "3b2ccbcf-442b-467c-9c5e-0884cc2d5417",
   "metadata": {},
   "source": [
    "Q6 Solution:"
   ]
  },
  {
   "cell_type": "code",
   "execution_count": 1,
   "id": "55ad50bc-093f-49bf-96bb-57ce0f40a7ee",
   "metadata": {},
   "outputs": [
    {
     "name": "stdout",
     "output_type": "stream",
     "text": [
      "0\n",
      "1\n",
      "1\n",
      "2\n",
      "3\n",
      "5\n",
      "8\n",
      "13\n",
      "21\n",
      "34\n"
     ]
    }
   ],
   "source": [
    "a = 0\n",
    "b = 1\n",
    "n = 0\n",
    "while n < 10:\n",
    "  c = a +b\n",
    "  print(a)\n",
    "  a = b\n",
    "  b = c\n",
    "  n = n +1 "
   ]
  },
  {
   "cell_type": "markdown",
   "id": "fe990ec7-5bfd-4e73-a1a3-40000cbe0bc6",
   "metadata": {},
   "source": [
    "Q7 Solution:"
   ]
  },
  {
   "cell_type": "code",
   "execution_count": 2,
   "id": "e15e402a-34b3-49f2-87a2-99444d176579",
   "metadata": {},
   "outputs": [
    {
     "name": "stdout",
     "output_type": "stream",
     "text": [
      "['p', 'w', 's', 'k', 'i', 'l', 'l', 's']\n"
     ]
    }
   ],
   "source": [
    "str = \"pwskills\"\n",
    "list = [x for x in str]\n",
    "print(list)"
   ]
  },
  {
   "cell_type": "markdown",
   "id": "7dcb90d9-ac07-4692-b846-7f384fed4042",
   "metadata": {},
   "source": [
    "Q8 Solution:"
   ]
  },
  {
   "cell_type": "code",
   "execution_count": 1,
   "id": "371c55a4-d4f2-4f0d-8409-eaa0c8bec181",
   "metadata": {},
   "outputs": [
    {
     "name": "stdin",
     "output_type": "stream",
     "text": [
      "Enter a number:  2662\n"
     ]
    },
    {
     "name": "stdout",
     "output_type": "stream",
     "text": [
      "Number is a palindrome\n"
     ]
    }
   ],
   "source": [
    "num = int(input(\"Enter a number: \"))\n",
    "reverse = 0\n",
    "a = num\n",
    "while a > 0:\n",
    "  remainder = a%10\n",
    "  reverse = reverse * 10 + remainder\n",
    "  a = a//10\n",
    "if num == reverse:\n",
    "  print(\"Number is a palindrome\")\n",
    "else:\n",
    "  print(\"Number is not a palindrome\")"
   ]
  },
  {
   "cell_type": "markdown",
   "id": "72130393-d6b5-4846-9ab6-f9aaf66c877d",
   "metadata": {},
   "source": [
    "Q9 Solution:"
   ]
  },
  {
   "cell_type": "code",
   "execution_count": 2,
   "id": "59a7614b-8ba1-4ae3-a7d4-b5ac86470727",
   "metadata": {},
   "outputs": [
    {
     "name": "stdout",
     "output_type": "stream",
     "text": [
      "[1, 3, 5, 7, 9, 11, 13, 15, 17, 19, 21, 23, 25, 27, 29, 31, 33, 35, 37, 39, 41, 43, 45, 47, 49, 51, 53, 55, 57, 59, 61, 63, 65, 67, 69, 71, 73, 75, 77, 79, 81, 83, 85, 87, 89, 91, 93, 95, 97, 99]\n"
     ]
    }
   ],
   "source": [
    "listx = [x for x in range(1, 101)]\n",
    "listy= [y for y in listx if y%2 != 0]\n",
    "print(listy)"
   ]
  },
  {
   "cell_type": "code",
   "execution_count": null,
   "id": "eca93f23-2bc4-4178-98f2-d54b042bc7d7",
   "metadata": {},
   "outputs": [],
   "source": []
  }
 ],
 "metadata": {
  "kernelspec": {
   "display_name": "Python 3 (ipykernel)",
   "language": "python",
   "name": "python3"
  },
  "language_info": {
   "codemirror_mode": {
    "name": "ipython",
    "version": 3
   },
   "file_extension": ".py",
   "mimetype": "text/x-python",
   "name": "python",
   "nbconvert_exporter": "python",
   "pygments_lexer": "ipython3",
   "version": "3.10.8"
  }
 },
 "nbformat": 4,
 "nbformat_minor": 5
}
