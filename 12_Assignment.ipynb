{
 "cells": [
  {
   "cell_type": "markdown",
   "id": "80ee0c12-602b-4e95-a024-009078ef9458",
   "metadata": {},
   "source": [
    "Q1 SOLUTION"
   ]
  },
  {
   "cell_type": "markdown",
   "id": "a0be782b-8ca4-424d-8f66-3440e80c664a",
   "metadata": {},
   "source": [
    "A database is an organized collection of structured information, or data, typically stored electronically in a computer system. A database is usually controlled by a database management system (DBMS). Together, the data and the DBMS, along with the applications that are associated with them, are referred to as a database system, often shortened to just database.\n",
    "\n",
    "Data within the most common types of databases in operation today is typically modeled in rows and columns in a series of tables to make processing and data querying efficient. The data can then be easily accessed, managed, modified, updated, controlled, and organized. Most databases use structured query language (SQL) for writing and querying data."
   ]
  },
  {
   "cell_type": "markdown",
   "id": "590c137d-c6b3-4115-a6d5-6c38a96ea2f2",
   "metadata": {},
   "source": [
    "Difference between SQL and NOSQL"
   ]
  },
  {
   "cell_type": "markdown",
   "id": "2707093b-69e0-40c6-94e7-6f50886de5fc",
   "metadata": {},
   "source": [
    "1)Databases are categorized as Relational Database Management System (RDBMS).\tNoSQL databases are categorized as Non-relational or distributed database system.\n",
    "\n",
    "2)SQL databases have fixed or static or predefined schema.\tNoSQL databases have dynamic schema.\n",
    "\n",
    "3)SQL databases display data in form of tables so it is known as table-based database.\tNoSQL databases display data as collection of key-value pair, documents, graph databases or wide-column stores.\n",
    "\n",
    "4)SQL databases are vertically scalable.\tNoSQL databases are horizontally scalable.\n",
    "\n",
    "5)SQL databases use a powerful language \"Structured Query Language\" to define and manipulate the data.\tIn NoSQL databases, collection of documents are used to query the data. It is also called unstructured query language. It varies from database to database.\n",
    "\n",
    "6)SQL databases are best suited for complex queries.\tNoSQL databases are not so good for complex queries because these are not as powerful as SQL queries.\n",
    "\n",
    "7)SQL databases are not best suited for hierarchical data storage.\tNoSQL databases are best suited for hierarchical data storage.\n",
    "\n",
    "8)MySQL, Oracle, Sqlite, PostgreSQL and MS-SQL etc. are the example of SQL database.\tMongoDB, BigTable, Redis, RavenDB, Cassandra, Hbase, Neo4j, CouchDB etc. are the example of nosql database"
   ]
  },
  {
   "cell_type": "markdown",
   "id": "5b64ea92-227e-4f7b-abb1-867b2526cee5",
   "metadata": {},
   "source": [
    "Q2 SOLUTION"
   ]
  },
  {
   "cell_type": "markdown",
   "id": "b3f168fa-b89e-4494-85d6-3703ee8482e1",
   "metadata": {},
   "source": [
    "Data Definition Language(DDL) is a subset of SQL and a part of DBMS(Database Management System). DDL consist of Commands to commands like CREATE, ALTER, TRUNCATE and DROP. These commands are used to create or modify the tables in SQL."
   ]
  },
  {
   "cell_type": "markdown",
   "id": "9911cefa-9c8b-4e7a-8eaf-5e107ee64be5",
   "metadata": {},
   "source": [
    "1. CREATE :\n",
    "This command is used to create a new table in SQL. The user has to give information like table name, column names, and their datatypes."
   ]
  },
  {
   "cell_type": "markdown",
   "id": "6ed1b4b4-6c3a-46b7-9564-dc49849e63de",
   "metadata": {},
   "source": [
    "Example –\n",
    "We need to create a table for storing Student information of a particular College. Create syntax would be as below.\n",
    "\n",
    "CREATE TABLE Student_info\n",
    "(\n",
    "College_Id number(2),\n",
    "College_name varchar(30),\n",
    "Branch varchar(10)\n",
    ");"
   ]
  },
  {
   "cell_type": "markdown",
   "id": "d32121e3-d830-4756-9879-4043cac398c3",
   "metadata": {},
   "source": [
    "2. ALTER :\n",
    "This command is used to add, delete or change columns in the existing table. The user needs to know the existing table name and can do add, delete or modify tasks easily."
   ]
  },
  {
   "cell_type": "markdown",
   "id": "51544452-a016-42c6-a966-7d9edbeefe4c",
   "metadata": {},
   "source": [
    "Example –\n",
    "In our Student_info table, we want to add a new column for CGPA. The syntax would be as below as follows.\n",
    "\n",
    "ALTER TABLE Student_info\n",
    "ADD CGPA number;"
   ]
  },
  {
   "cell_type": "markdown",
   "id": "8817e943-c2f1-44b8-a707-dfff9c553af0",
   "metadata": {},
   "source": [
    "3. TRUNCATE :\n",
    "This command is used to remove all rows from the table, but the structure of the table still exists."
   ]
  },
  {
   "cell_type": "markdown",
   "id": "fa42c4ed-f7dd-4a96-ac5e-cb2579a2dd49",
   "metadata": {},
   "source": [
    "Example –\n",
    "The College Authority wants to remove the details of all students for new batches but wants to keep the table structure. The command they can use is as follows.\n",
    "\n",
    "TRUNCATE TABLE Student_info;"
   ]
  },
  {
   "cell_type": "markdown",
   "id": "5061cc23-e457-42da-bc8c-113d7c5741f2",
   "metadata": {},
   "source": [
    "4. DROP :\n",
    "This command is used to remove an existing table along with its structure from the Database."
   ]
  },
  {
   "cell_type": "markdown",
   "id": "9f6a2b88-3013-42cb-b28f-d3db111a3fa1",
   "metadata": {},
   "source": [
    "Example –\n",
    "If the College Authority wants to change their Database by deleting the Student_info Table. \n",
    "\n",
    "DROP TABLE Student_info;"
   ]
  },
  {
   "cell_type": "markdown",
   "id": "7adc2f59-718b-49b7-b20d-7308129c721f",
   "metadata": {},
   "source": [
    "Q3 SOLUTION"
   ]
  },
  {
   "cell_type": "markdown",
   "id": "3121c0df-c771-4184-935f-441aedb7ed3d",
   "metadata": {},
   "source": [
    "DML stands for Data Manipulation Language. Tables and formulas are helpful when communicating with data stored up to a point in a database through SQL, but a time comes when we actually want to execute some fairly complicated data interactions. We will also need the Data Manipulation Language in that situation. DML is a way to inform a database precisely what we want it to do by conversing in a manner that it has been built to comprehend from the scratch. When it comes to interacting within existing data, whether adding, moving, or deleting data, it provides a convenient way to do so."
   ]
  },
  {
   "cell_type": "markdown",
   "id": "63425753-7b5f-4d6e-affb-0292ac0ff0e7",
   "metadata": {},
   "source": [
    "1. INSERT Command –\n",
    "This command is used to enter the information or values into a row. We can connect one or more records to a single table within a repository using this instruction. This is often used to connect an unused tag to the documents.\n",
    "Syntax :\n",
    "\n",
    "INSERT INTO <table_name> ('column_name1' <datatype>, 'column_name2' <datatype>)\n",
    "\n",
    "VALUES ('value1', 'value2'); "
   ]
  },
  {
   "cell_type": "markdown",
   "id": "34d41999-2f85-421e-bf4f-f84408b119eb",
   "metadata": {},
   "source": [
    "Example :\n",
    "\n",
    "INSERT INTO students ('stu_id' int, 'stu_name' varchar(20), 'city' varchar(20))\n",
    "\n",
    "VALUES ('1', 'Nirmit', 'Gorakhpur');"
   ]
  },
  {
   "cell_type": "markdown",
   "id": "3734c8d0-6fde-42f8-ad5c-844ee408cb09",
   "metadata": {},
   "source": [
    "2. UPDATE Command –\n",
    "This command is used to alter existing table records. Within a table, it modifies data from one or more records. This command is used to alter the data which is already present in a table.\n",
    "Syntax :\n",
    "\n",
    "UPDATE <table_name>\n",
    "\n",
    "SET <column_name = value>\n",
    "\n",
    "WHERE condition; "
   ]
  },
  {
   "cell_type": "markdown",
   "id": "399191ab-2aae-409f-8df6-80aafd9ca83d",
   "metadata": {},
   "source": [
    "Example :\n",
    "\n",
    "UPDATE students\n",
    "\n",
    "SET due_fees = 20000\n",
    "\n",
    "WHERE stu_name = 'Mini'; "
   ]
  },
  {
   "cell_type": "markdown",
   "id": "13585fce-62cc-4808-a654-2d1f5fc5d23d",
   "metadata": {},
   "source": [
    "3. DELETE Command –\n",
    "It deletes all archives from a table. This command is used to erase some or all of the previous table’s records. If we do not specify the ‘WHERE’ condition then all the rows would be erased or deleted.\n",
    "Syntax :\n",
    "\n",
    "DELETE FROM <table_name>\n",
    "\n",
    "WHERE <condition>; "
   ]
  },
  {
   "cell_type": "markdown",
   "id": "8fc93f1d-848f-4c0b-928a-9178b737588d",
   "metadata": {},
   "source": [
    "Example :\n",
    "\n",
    "DELETE FROM students\n",
    "\n",
    "WHERE stu_id = '001'; "
   ]
  },
  {
   "cell_type": "raw",
   "id": "f7bc0f90-2912-4c0e-96e8-e4e79a5c282c",
   "metadata": {},
   "source": []
  },
  {
   "cell_type": "markdown",
   "id": "246488b5-c646-44f8-b76a-5d2f8a18f276",
   "metadata": {},
   "source": [
    "Q4 SOLUTION"
   ]
  },
  {
   "cell_type": "markdown",
   "id": "baf819a2-9c12-4105-91f8-821e218eeea5",
   "metadata": {},
   "source": [
    "DQL statements are used for performing queries on the data within schema objects. The purpose of the DQL Command is to get some schema relation based on the query passed to it. We can define DQL as follows it is a component of SQL statement that allows getting data from the database and imposing order upon it. It includes the SELECT statement. This command allows getting the data out of the database to perform operations with it. When a SELECT is fired against a table or tables the result is compiled into a further temporary table, which is displayed or perhaps received by the program i.e. a front-end."
   ]
  },
  {
   "cell_type": "markdown",
   "id": "1c135d00-03b0-4fc6-850a-9a35530aec0b",
   "metadata": {},
   "source": [
    "SELECT Command : You can use the SELECT command to extract data from a database in order to perform actions on it. It is the same as the projection operation in relational algebra. The result of a SELECT statement on a table or collection of tables is compiled into a new temporary table, which is subsequently displayed or received by a program, i.e. a front-end."
   ]
  },
  {
   "cell_type": "markdown",
   "id": "ecca8c05-d669-4b59-8d21-251178f59f36",
   "metadata": {},
   "source": [
    "Syntax\n",
    "\n",
    "SELECT expression FROM table_x WHERE code_conditions;\n",
    "\n",
    "Example\n",
    "\n",
    "SELECT Stu_Name FROM Student WHERE Phone = 9039462908;"
   ]
  },
  {
   "cell_type": "markdown",
   "id": "f12863d5-307a-44e2-9cb7-54d4173c7df9",
   "metadata": {},
   "source": [
    "Q5 SOLUTION"
   ]
  },
  {
   "cell_type": "markdown",
   "id": "386e9aca-daca-4177-a6b5-9e031df1b5a6",
   "metadata": {},
   "source": [
    "A primary key and a foreign key are two important concepts in relational databases that help establish relationships between tables and ensure data integrity. Let's explain each term:\n",
    "\n",
    "Primary Key:\n",
    "A primary key is a column or a set of columns in a database table that uniquely identifies each record (row) in that table. Its main purpose is to ensure the uniqueness and integrity of the data within the table. Here are some key points about primary keys:\n",
    "\n",
    "1. Uniqueness: A primary key must have a unique value for each record in the table. No two records can have the same primary key value.\n",
    "\n",
    "2. Non-nullability: A primary key cannot contain a null value. Every record in the table must have a valid primary key value.\n",
    "\n",
    "3. Stability: A primary key should be stable and not change over time. It provides a reliable way to identify and reference a specific record.\n",
    "\n",
    "4. Single value or composite key: A primary key can be a single column or a combination of multiple columns (composite key) that together uniquely identify a record.\n",
    "\n",
    "5. Indexing: Primary keys are typically automatically indexed by the database management system, which helps improve search performance.\n",
    "\n",
    "Foreign Key:\n",
    "A foreign key is a column or a set of columns in a table that establishes a link or relationship between that table and another table. It creates a logical connection between two tables based on the values stored in the foreign key column(s). Here are some key points about foreign keys:\n",
    "\n",
    "1. Referential integrity: The primary purpose of a foreign key is to enforce referential integrity, ensuring that relationships between tables are maintained correctly.\n",
    "\n",
    "2. Relationship establishment: A foreign key in one table refers to the primary key of another table. This relationship defines how the two tables are related.\n",
    "\n",
    "3. Data consistency: The foreign key ensures that the values stored in the referencing column(s) of one table exist in the referenced column(s) of the related table. It prevents the creation of \"orphaned\" records.\n",
    "\n",
    "4. Cascading actions: Foreign keys can be set up to define cascading actions such as cascading updates or deletes. These actions automatically propagate changes in the referenced primary key to the related foreign key values.\n",
    "\n",
    "5. Multiple relationships: A table can have multiple foreign keys that reference different tables or even the same table. This allows for more complex relationships and database structures.\n",
    "\n",
    "In summary, a primary key uniquely identifies records within a table, while a foreign key establishes relationships between tables by referring to the primary key of another table. Together, primary keys and foreign keys play a vital role in maintaining data integrity and ensuring the accuracy of relational databases."
   ]
  },
  {
   "cell_type": "markdown",
   "id": "e39a53a8-cd15-46da-9b55-aa590ee22a6d",
   "metadata": {},
   "source": [
    "Q6 SOLUTION"
   ]
  },
  {
   "cell_type": "code",
   "execution_count": 3,
   "id": "9c9e9ad0-5ee9-4739-ab2d-36aeb15c3d8c",
   "metadata": {},
   "outputs": [
    {
     "name": "stdout",
     "output_type": "stream",
     "text": [
      "Collecting mysql-connector-python\n",
      "  Downloading mysql_connector_python-8.0.33-cp310-cp310-manylinux1_x86_64.whl (27.4 MB)\n",
      "\u001b[2K     \u001b[90m━━━━━━━━━━━━━━━━━━━━━━━━━━━━━━━━━━━━━━━━\u001b[0m \u001b[32m27.4/27.4 MB\u001b[0m \u001b[31m53.5 MB/s\u001b[0m eta \u001b[36m0:00:00\u001b[0m00:01\u001b[0m00:01\u001b[0m\n",
      "\u001b[?25hCollecting protobuf<=3.20.3,>=3.11.0\n",
      "  Downloading protobuf-3.20.3-cp310-cp310-manylinux_2_12_x86_64.manylinux2010_x86_64.whl (1.1 MB)\n",
      "\u001b[2K     \u001b[90m━━━━━━━━━━━━━━━━━━━━━━━━━━━━━━━━━━━━━━━━\u001b[0m \u001b[32m1.1/1.1 MB\u001b[0m \u001b[31m66.1 MB/s\u001b[0m eta \u001b[36m0:00:00\u001b[0m\n",
      "\u001b[?25hInstalling collected packages: protobuf, mysql-connector-python\n",
      "  Attempting uninstall: protobuf\n",
      "    Found existing installation: protobuf 4.21.11\n",
      "    Uninstalling protobuf-4.21.11:\n",
      "      Successfully uninstalled protobuf-4.21.11\n",
      "Successfully installed mysql-connector-python-8.0.33 protobuf-3.20.3\n",
      "Note: you may need to restart the kernel to use updated packages.\n"
     ]
    }
   ],
   "source": [
    "pip install mysql-connector-python"
   ]
  },
  {
   "cell_type": "code",
   "execution_count": null,
   "id": "f2a02239-9543-477d-bb57-efb6f1fc750c",
   "metadata": {},
   "outputs": [],
   "source": [
    "import mysql.connector\n",
    "\n",
    "mydb = mysql.connector.connect(\n",
    "    host=\"host\",\n",
    "    user=\"username\",\n",
    "    password=\"password\",\n",
    "    database=\"database\"\n",
    ")\n",
    "\n",
    "cursor = mydb.cursor()\n",
    "\n",
    "cursor.execute(\"SELECT * FROM testtable\")\n",
    "\n",
    "results = cursor.fetchall()\n",
    "\n",
    "for row in results:\n",
    "    print(row)\n",
    "cursor.close()\n",
    "mydb.close()"
   ]
  },
  {
   "cell_type": "markdown",
   "id": "b1ace536-c27f-44b4-888d-618248572af6",
   "metadata": {},
   "source": [
    "1. cursor(): The cursor() method creates a cursor object, which is used to execute SQL queries and fetch the results. It is called on the database connection object (mydb in the code above) and returns a new cursor.\n",
    "\n",
    "2. execute(): The execute() method is used to execute SQL queries through the cursor. It takes an SQL statement as a parameter and executes it against the connected database. In the code above, we executed a SELECT query: \"SELECT * FROM table\". The execution of this query will fetch all the rows from the table specified and make them available for further processing."
   ]
  },
  {
   "cell_type": "markdown",
   "id": "5224c8f6-48f6-4d95-9c35-59dea0bb741e",
   "metadata": {},
   "source": [
    "Q7 SOLUTION"
   ]
  },
  {
   "cell_type": "markdown",
   "id": "d48b56ff-5b27-4fd1-b605-45bd6000c4d5",
   "metadata": {},
   "source": [
    "The order of execution of SQL clauses in an SQL query generally follows these steps:\n",
    "\n",
    "1. FROM: The FROM clause specifies the tables or views from which the data is retrieved. It identifies the data sources for the query.\n",
    "\n",
    "2. JOIN: If the query involves joining multiple tables, the JOIN clause is used to combine the related tables based on specified join conditions. It determines how the tables are linked.\n",
    "\n",
    "3. WHERE: The WHERE clause is used to filter the rows returned by the query based on specified conditions. It allows you to specify criteria that the data must meet to be included in the result set.\n",
    "\n",
    "4. GROUP BY: The GROUP BY clause is used to group the rows based on one or more columns. It is typically used in conjunction with aggregate functions like SUM, COUNT, AVG, etc., to perform calculations on groups of rows.\n",
    "\n",
    "5. HAVING: The HAVING clause filters the groups generated by the GROUP BY clause based on specified conditions. It is similar to the WHERE clause but operates on groups rather than individual rows.\n",
    "\n",
    "6. SELECT: The SELECT clause determines which columns or expressions to include in the result set. It specifies the data to be retrieved from the tables or views.\n",
    "\n",
    "7. DISTINCT: The DISTINCT keyword (which can be part of the SELECT clause) eliminates duplicate rows from the result set.\n",
    "\n",
    "8. ORDER BY: The ORDER BY clause sorts the result set based on one or more columns. It allows you to specify the sorting order (ascending or descending) for each column.\n",
    "\n",
    "9. LIMIT/OFFSET: The LIMIT clause is used to restrict the number of rows returned by the query, while the OFFSET clause is used to skip a certain number of rows from the beginning of the result set."
   ]
  },
  {
   "cell_type": "code",
   "execution_count": null,
   "id": "3f872ddf-3fee-4962-9076-323ef955079f",
   "metadata": {},
   "outputs": [],
   "source": [
    "print(\"End\")"
   ]
  },
  {
   "cell_type": "code",
   "execution_count": null,
   "id": "b113074d-e530-4e23-9885-905d972906e6",
   "metadata": {},
   "outputs": [],
   "source": []
  }
 ],
 "metadata": {
  "kernelspec": {
   "display_name": "Python 3 (ipykernel)",
   "language": "python",
   "name": "python3"
  },
  "language_info": {
   "codemirror_mode": {
    "name": "ipython",
    "version": 3
   },
   "file_extension": ".py",
   "mimetype": "text/x-python",
   "name": "python",
   "nbconvert_exporter": "python",
   "pygments_lexer": "ipython3",
   "version": "3.10.8"
  }
 },
 "nbformat": 4,
 "nbformat_minor": 5
}
