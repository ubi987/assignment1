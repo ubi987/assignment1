{
 "cells": [
  {
   "cell_type": "code",
   "execution_count": null,
   "id": "b18ba606-eb67-49f9-be65-63f725f85844",
   "metadata": {},
   "outputs": [],
   "source": [
    "Q1 Solution:"
   ]
  },
  {
   "cell_type": "markdown",
   "id": "79134931-b74a-43ac-b144-d85ca79a530d",
   "metadata": {},
   "source": [
    "In Python, we comment by putting a hash(#) at the starting of the line. "
   ]
  },
  {
   "cell_type": "markdown",
   "id": "e8f8086a-5998-4cde-b88e-af333d909cf5",
   "metadata": {},
   "source": [
    "The different types of comments in Python are:\n",
    "Single line comment: A single-line comment starts and ends in the same line. We use hash symbol at the beginning of the line.\n",
    "Multiline Commet: Python doesnt support multiline comments. However we can overcome this issue by using hash # at the beginning of each line of comment on multiple lines."
   ]
  },
  {
   "cell_type": "markdown",
   "id": "c4917d48-e80f-4afa-8939-6e0df6a77c4f",
   "metadata": {},
   "source": [
    "Q2 Solution:"
   ]
  },
  {
   "cell_type": "markdown",
   "id": "38430413-88db-47b1-a6f2-181bc869bded",
   "metadata": {},
   "source": [
    "Variables are containers for storing data values.\n",
    "We don't have any command to declare variables in python. A variable is created when you firsst assign a value to it.\n",
    "We assign value to a variable by using \"=\" . \n",
    "e.g var1 = \"python\"\n",
    "var2 = 56"
   ]
  },
  {
   "cell_type": "markdown",
   "id": "1cbf4871-001f-458e-a6f7-53f323ba440b",
   "metadata": {},
   "source": [
    "Q3 Solution:"
   ]
  },
  {
   "cell_type": "markdown",
   "id": "60ed4178-90ca-47cf-abc0-165e4a9bb7a7",
   "metadata": {},
   "source": [
    "One data type to another can be converted with type casting in python. \n",
    "Suppose we have var1 = 3 . Here we have an interger 3 which is stored in variable var. if we want to change the data type of integer from int to string we do it in the following way:\n",
    "var1 = str(3)"
   ]
  },
  {
   "cell_type": "markdown",
   "id": "827e8204-1f18-4f9f-aede-e278617d87be",
   "metadata": {},
   "source": [
    "Q4 Solution"
   ]
  },
  {
   "cell_type": "markdown",
   "id": "5f6ed395-5eaf-420e-b611-d5c2edbad07f",
   "metadata": {},
   "source": [
    "To start the python interpreter, open the terminal and then use the interpreter from the command line.\n",
    "To initiate a Python interactive session, type python in the command line or terminal and hit the ENTER key from the keyboard.\n",
    "Run Python Script using Command-Line:\n",
    "Using the python command\n",
    "The most basic and easy way to run a Python script is by using the python command. You need to open a command line and type the word python followed by the path to your script file like this:\n",
    "\n",
    "python first_script.py\n",
    "Hello World!"
   ]
  },
  {
   "cell_type": "markdown",
   "id": "6be44c3b-502e-4962-beda-2cb7d96b7535",
   "metadata": {},
   "source": [
    "Q5 Solution"
   ]
  },
  {
   "cell_type": "code",
   "execution_count": 1,
   "id": "51c95bd9-6848-4dfb-b4a8-cbb664768960",
   "metadata": {},
   "outputs": [],
   "source": [
    "my_list = [1, 2, 3, 4, 5]"
   ]
  },
  {
   "cell_type": "code",
   "execution_count": 2,
   "id": "8d9e945a-e2b0-413b-b5c7-b65e017f2191",
   "metadata": {},
   "outputs": [
    {
     "name": "stdout",
     "output_type": "stream",
     "text": [
      "[2, 3]\n"
     ]
    }
   ],
   "source": [
    "print(my_list[1:3])"
   ]
  },
  {
   "cell_type": "markdown",
   "id": "8218f861-fbff-49ca-a2d0-8f7121acac09",
   "metadata": {},
   "source": [
    "Q6 Solution:"
   ]
  },
  {
   "cell_type": "raw",
   "id": "3d6dafcc-3fd7-4f3a-a4fc-fca3a7c73a77",
   "metadata": {},
   "source": [
    "Complex numbers are those numbers which are expressed in the form of a+ib where, a,b are real numbers and 'i' is an imaginary number called “iota”. The value of i = (√-1). For example, 2+3i is a complex number, where 2 is a real number and 3i is an imaginary number.\n",
    "In Python we write imaginary number :\n",
    "syntax of the complex function:\n",
    "complex(real, imag)\n",
    "e.g. a = complex(9, 3)"
   ]
  },
  {
   "cell_type": "code",
   "execution_count": 3,
   "id": "e95b58a4-66fe-4d41-b2c4-e91b70117bfe",
   "metadata": {},
   "outputs": [],
   "source": [
    "a = complex(9, 3)"
   ]
  },
  {
   "cell_type": "code",
   "execution_count": 5,
   "id": "74ed6188-578e-41b3-8d5a-e34451bbe70d",
   "metadata": {},
   "outputs": [
    {
     "name": "stdout",
     "output_type": "stream",
     "text": [
      "(9+3j)\n"
     ]
    }
   ],
   "source": [
    "print(a)"
   ]
  },
  {
   "cell_type": "markdown",
   "id": "54d1a202-133f-4f6a-a44d-847739383642",
   "metadata": {},
   "source": [
    "Q7 Solution:"
   ]
  },
  {
   "cell_type": "raw",
   "id": "95ac9668-af17-41e7-8010-7c78733c0292",
   "metadata": {},
   "source": [
    "In python we dont declare data types of variables. A variable is created when we first assign a value to it..\n",
    "We assign value to a variable by using \"=\" \n",
    "age = 25"
   ]
  },
  {
   "cell_type": "code",
   "execution_count": 6,
   "id": "8467ff8e-64d0-4c6f-a63e-4793dd27a7c8",
   "metadata": {},
   "outputs": [],
   "source": [
    "age = 25"
   ]
  },
  {
   "cell_type": "code",
   "execution_count": 7,
   "id": "643612bd-1cc0-4435-b30a-17372c473350",
   "metadata": {},
   "outputs": [
    {
     "name": "stdout",
     "output_type": "stream",
     "text": [
      "25\n"
     ]
    }
   ],
   "source": [
    "print(age)"
   ]
  },
  {
   "cell_type": "markdown",
   "id": "60607a7f-d4cc-4e35-ab7d-3ea56fc50d92",
   "metadata": {},
   "source": [
    "Q8 Solution:"
   ]
  },
  {
   "cell_type": "code",
   "execution_count": 1,
   "id": "c13ab0f1-f88f-4b41-a972-870464cf8a70",
   "metadata": {},
   "outputs": [],
   "source": [
    "price = 9.99"
   ]
  },
  {
   "cell_type": "code",
   "execution_count": 2,
   "id": "e295c5b0-e627-4925-91df-461074aefdde",
   "metadata": {},
   "outputs": [
    {
     "name": "stdout",
     "output_type": "stream",
     "text": [
      "9.99\n"
     ]
    }
   ],
   "source": [
    "print(price)"
   ]
  },
  {
   "cell_type": "raw",
   "id": "07b1a392-6c74-4fc5-9e3d-72372f4a3b1b",
   "metadata": {},
   "source": [
    "The data type belongs to the float type as shown below:"
   ]
  },
  {
   "cell_type": "code",
   "execution_count": 3,
   "id": "a6bf9eff-ea95-4ffe-bd0a-88d12fd2b389",
   "metadata": {},
   "outputs": [
    {
     "name": "stdout",
     "output_type": "stream",
     "text": [
      "<class 'float'>\n"
     ]
    }
   ],
   "source": [
    "print(type(price))"
   ]
  },
  {
   "cell_type": "markdown",
   "id": "fcaf8e37-c37a-483a-9635-5824d648426d",
   "metadata": {},
   "source": [
    "Q9 Solution:"
   ]
  },
  {
   "cell_type": "code",
   "execution_count": 4,
   "id": "5f30ad64-71e7-4949-904b-e63d7557742f",
   "metadata": {},
   "outputs": [],
   "source": [
    "name = \"Shakir Ul Mateen\""
   ]
  },
  {
   "cell_type": "code",
   "execution_count": 5,
   "id": "0bdcf82f-70c3-43e5-96dc-0f21260fb239",
   "metadata": {},
   "outputs": [
    {
     "name": "stdout",
     "output_type": "stream",
     "text": [
      "Shakir Ul Mateen\n"
     ]
    }
   ],
   "source": [
    "#We can print its value as shown below:\n",
    "print(name)"
   ]
  },
  {
   "cell_type": "markdown",
   "id": "33b04116-b33e-4838-8682-6818f6528d32",
   "metadata": {},
   "source": [
    "Q10 Solution:"
   ]
  },
  {
   "cell_type": "code",
   "execution_count": 6,
   "id": "8465fcc9-075f-4a93-9333-656630546fd3",
   "metadata": {},
   "outputs": [],
   "source": [
    "str = \"Hello, World!\""
   ]
  },
  {
   "cell_type": "code",
   "execution_count": 7,
   "id": "2563470d-7bb3-4ca5-a9c9-3fc5e921010c",
   "metadata": {},
   "outputs": [
    {
     "name": "stdout",
     "output_type": "stream",
     "text": [
      "World!\n"
     ]
    }
   ],
   "source": [
    "print(str[7::])"
   ]
  },
  {
   "cell_type": "markdown",
   "id": "82ac4646-a670-4250-8b70-dedfa85629ee",
   "metadata": {},
   "source": [
    "Q11 Solution:"
   ]
  },
  {
   "cell_type": "code",
   "execution_count": 8,
   "id": "490ae30f-44ec-4256-a22c-becc29dae1f8",
   "metadata": {},
   "outputs": [],
   "source": [
    "is_student = True"
   ]
  },
  {
   "cell_type": "code",
   "execution_count": 9,
   "id": "b1a194c8-a92c-4786-ae4d-444b180b4075",
   "metadata": {},
   "outputs": [
    {
     "name": "stdout",
     "output_type": "stream",
     "text": [
      "True\n"
     ]
    }
   ],
   "source": [
    "print(is_student)"
   ]
  },
  {
   "cell_type": "raw",
   "id": "75eca3cb-a18a-4dbe-be18-6a941f66a067",
   "metadata": {},
   "source": [
    "Prints True as I am currently a student"
   ]
  },
  {
   "cell_type": "code",
   "execution_count": null,
   "id": "7497e7bb-202a-4d21-8871-5b640b8d1ee3",
   "metadata": {},
   "outputs": [],
   "source": []
  }
 ],
 "metadata": {
  "kernelspec": {
   "display_name": "Python 3 (ipykernel)",
   "language": "python",
   "name": "python3"
  },
  "language_info": {
   "codemirror_mode": {
    "name": "ipython",
    "version": 3
   },
   "file_extension": ".py",
   "mimetype": "text/x-python",
   "name": "python",
   "nbconvert_exporter": "python",
   "pygments_lexer": "ipython3",
   "version": "3.10.8"
  }
 },
 "nbformat": 4,
 "nbformat_minor": 5
}
