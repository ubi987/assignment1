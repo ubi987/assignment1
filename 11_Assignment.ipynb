{
 "cells": [
  {
   "cell_type": "markdown",
   "id": "2e8ec1a4-8b06-4fa4-b5f0-092132ea32ed",
   "metadata": {},
   "source": [
    "Q1 SOLUTION:"
   ]
  },
  {
   "cell_type": "markdown",
   "id": "5de6aa46-1e66-4dca-a956-52f328de042e",
   "metadata": {},
   "source": [
    "Multiprocessing in Python is a built-in package that allows the system to run multiple processes simultaneously. It will enable the breaking of applications into smaller threads that can run independently. The operating system can then allocate all these threads or processes to the processor to run them parallelly, thus improving the overall performance and efficiency."
   ]
  },
  {
   "cell_type": "markdown",
   "id": "6863ffd4-da91-4c83-a917-8f7d4e7e0c48",
   "metadata": {},
   "source": [
    "Multiprocessing is useful because:"
   ]
  },
  {
   "cell_type": "markdown",
   "id": "dba47367-d40c-4709-8c89-61deffc87bed",
   "metadata": {},
   "source": [
    "Performing multiple operations for a single processor becomes challenging. As the number of processes keeps increasing, the processor will have to halt the current process and move to the next, to keep them going. Thus, it will have to interrupt each task, thereby hampering the performance.\n",
    "\n",
    "Suppose there are different employees, each to perform a specific task. It becomes simpler, right? That’s why multiprocessing in Python becomes essential. The smaller task threads act like different employees, making it easier to handle and manage various processes. A multiprocessing system can be represented as:\n",
    "\n",
    "A system with more than a single central processor\n",
    "A multi-core processor, i.e., a single computing unit with multiple independent core processing units\n",
    "In multiprocessing, the system can divide and assign tasks to different processors."
   ]
  },
  {
   "cell_type": "markdown",
   "id": "a6a2d7a2-091a-492d-b126-a9779fa57add",
   "metadata": {},
   "source": [
    "Q2 SOLUTION:"
   ]
  },
  {
   "cell_type": "markdown",
   "id": "1ff414b4-a98b-4174-9943-497f4841682b",
   "metadata": {},
   "source": [
    "While multithreading and multiprocessing can both be used to increase the computing power of a system, there are some key differences between these approaches. Here are some of the primary ways these methods differ from one another:\n",
    "\n",
    "Multiprocessing uses two or more CPUs to increase computing power, whereas multithreading uses a single process with multiple code segments to increase computing power.\n",
    "\n",
    "Multithreading focuses on generating computing threads from a single process, whereas multiprocessing increases computing power by adding CPUs.\n",
    "\n",
    "Multiprocessing is used to create a more reliable system, whereas multithreading is used to create threads that run parallel to each other.\n",
    "\n",
    "Multithreading is quick to create and requires few resources, whereas multiprocessing requires a significant amount of time and specific resources to create.\n",
    "\n",
    "Multiprocessing executes many processes simultaneously, whereas multithreading executes many threads simultaneously.\n",
    "Multithreading uses a common address space for all the threads, whereas multiprocessing creates a separate address space for each process."
   ]
  },
  {
   "cell_type": "markdown",
   "id": "75875058-360a-4e95-8df9-b4dfccd1d980",
   "metadata": {},
   "source": [
    "Q3 SOLUTION:"
   ]
  },
  {
   "cell_type": "code",
   "execution_count": 2,
   "id": "00311b9f-35a7-4eec-a08b-24aac0d2d70a",
   "metadata": {},
   "outputs": [
    {
     "name": "stdout",
     "output_type": "stream",
     "text": [
      "Square: 100\n",
      "Cube: 1000\n"
     ]
    }
   ],
   "source": [
    "import multiprocessing\n",
    "  \n",
    "def print_cube(num):\n",
    "    cube = num*num*num\n",
    "    print(f\"Cube: {cube}\")\n",
    "  \n",
    "def print_square(num):\n",
    "    square = num*num\n",
    "    print(f\"Square: {square}\")\n",
    "  \n",
    "if __name__ == \"__main__\":\n",
    "    p1 = multiprocessing.Process(target=print_square, args=(10, ))\n",
    "    p2 = multiprocessing.Process(target=print_cube, args=(10, ))\n",
    "  \n",
    "    p1.start()\n",
    "    p2.start()\n",
    "  \n",
    "    p1.join()\n",
    "    p2.join()"
   ]
  },
  {
   "cell_type": "markdown",
   "id": "f5051ba5-2313-4b0b-bab2-57038f9d041f",
   "metadata": {},
   "source": [
    "Q4 SOLUTION:"
   ]
  },
  {
   "cell_type": "markdown",
   "id": "fe7ab3db-5ae2-422e-9624-46fab24289f6",
   "metadata": {},
   "source": [
    "In Python, a multiprocessing pool is a feature provided by the multiprocessing module that allows for the execution of multiple processes concurrently. It provides a convenient way to distribute the workload across multiple worker processes, commonly referred to as a \"pool\" of worker processes.\n",
    "\n",
    "The multiprocessing pool is primarily used to parallelize the execution of a function or a set of functions across multiple input values. It creates a pool of worker processes, which can be used to perform tasks in parallel, thereby utilizing the available CPU cores efficiently.\n",
    "\n",
    "Here are a few key benefits and use cases of using a multiprocessing pool:\n",
    "\n",
    "1. Parallel Execution: With a multiprocessing pool, you can distribute the workload across multiple processes, enabling the execution of tasks in parallel. This can significantly speed up the processing of computationally intensive or time-consuming tasks.\n",
    "\n",
    "2. Utilize Multiple CPU Cores: By utilizing a pool of worker processes, you can take advantage of the multiple CPU cores available in modern systems. This allows for better resource utilization and can lead to improved performance and responsiveness of your application.\n",
    "\n",
    "3. Increased Throughput: When dealing with tasks that can be executed independently, such as data processing or calculations on a large dataset, a multiprocessing pool can process multiple tasks simultaneously. This can result in higher throughput and faster completion of the overall workload.\n",
    "\n",
    "4. Simplified Interface: The multiprocessing pool provides a high-level interface that simplifies the process of distributing tasks across multiple processes. It abstracts away the complexity of managing individual processes and provides convenient methods for submitting tasks and retrieving results.\n",
    "\n",
    "To use a multiprocessing pool, you typically create an instance of multiprocessing.Pool and specify the desired number of worker processes. You can then use the pool's methods, such as apply(), map(), or starmap(), to submit tasks to be executed in parallel.\n",
    "\n",
    "Overall, the multiprocessing pool is a valuable tool for achieving parallelism and improving the performance of CPU-bound tasks in Python by leveraging multiple processes."
   ]
  },
  {
   "cell_type": "markdown",
   "id": "c3f539ce-c0cc-40d5-a2cc-0715658c2c49",
   "metadata": {},
   "source": [
    "Q5 SOLUTION:"
   ]
  },
  {
   "cell_type": "code",
   "execution_count": 3,
   "id": "472ca3ae-ee5c-4b48-947d-f6c8b851faa9",
   "metadata": {},
   "outputs": [
    {
     "name": "stdout",
     "output_type": "stream",
     "text": [
      "[3, 6, 9, 12, 15]\n"
     ]
    }
   ],
   "source": [
    "import multiprocessing\n",
    "def func(num):\n",
    "  res = num * 3\n",
    "  return res\n",
    "\n",
    "if __name__== \"__main__\":\n",
    "  pool = multiprocessing.Pool(processes = 4)\n",
    "\n",
    "  list1 = [1,2,3,4,5]\n",
    "  results = pool.map(func, list1)\n",
    "\n",
    "  pool.close()\n",
    "  pool.join()\n",
    "\n",
    "  print(results)"
   ]
  },
  {
   "cell_type": "markdown",
   "id": "62129859-1776-413a-b282-ceaf3ff48984",
   "metadata": {},
   "source": [
    "Q6 SOLUTION:"
   ]
  },
  {
   "cell_type": "code",
   "execution_count": 5,
   "id": "f94c3112-dad1-4089-bc5f-7f9d3e9672aa",
   "metadata": {},
   "outputs": [
    {
     "name": "stdout",
     "output_type": "stream",
     "text": [
      "1\n",
      "2\n",
      "3\n",
      "4\n"
     ]
    }
   ],
   "source": [
    "import multiprocessing\n",
    "def func(num):\n",
    "  print(num)\n",
    "\n",
    "if __name__== \"__main__\":\n",
    "  list1 = [1,2,3,4]\n",
    "  processes = []\n",
    "\n",
    "  for i in list1:\n",
    "    process = multiprocessing.Process(target = func, args = (i,))\n",
    "    process.start()\n",
    "    processes.append(process)\n",
    "\n",
    "  for j in processes:\n",
    "    j.join()"
   ]
  },
  {
   "cell_type": "code",
   "execution_count": null,
   "id": "fc5cd087-a3c2-4d53-b967-23fa4a367edf",
   "metadata": {},
   "outputs": [],
   "source": []
  }
 ],
 "metadata": {
  "kernelspec": {
   "display_name": "Python 3 (ipykernel)",
   "language": "python",
   "name": "python3"
  },
  "language_info": {
   "codemirror_mode": {
    "name": "ipython",
    "version": 3
   },
   "file_extension": ".py",
   "mimetype": "text/x-python",
   "name": "python",
   "nbconvert_exporter": "python",
   "pygments_lexer": "ipython3",
   "version": "3.10.8"
  }
 },
 "nbformat": 4,
 "nbformat_minor": 5
}
