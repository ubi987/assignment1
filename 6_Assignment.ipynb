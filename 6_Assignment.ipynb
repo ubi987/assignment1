{
 "cells": [
  {
   "cell_type": "markdown",
   "id": "39f0b7ee-02eb-41d1-abfe-f11dba90fe6d",
   "metadata": {},
   "source": [
    "Q1 SOLUTION:"
   ]
  },
  {
   "cell_type": "markdown",
   "id": "fcc630b9-5728-4116-8e61-2bf0b5e824b0",
   "metadata": {},
   "source": [
    "Classes are user-defined data types that act as the blueprint for individual objects, attributes and methods. Objects are instances of a class created with specifically defined data. Example"
   ]
  },
  {
   "cell_type": "code",
   "execution_count": 1,
   "id": "3181a228-965c-40d7-8fde-6e3f7d3b134e",
   "metadata": {},
   "outputs": [
    {
     "name": "stdout",
     "output_type": "stream",
     "text": [
      "Name: Rohan, Age = 22\n",
      "Name: Siraj, Age = 24\n"
     ]
    }
   ],
   "source": [
    "class Human:\n",
    "  def __init__(self, name, age):\n",
    "    self.name = name\n",
    "    self.age = age\n",
    "  def human_char(self):\n",
    "    print(f\"Name: {self.name}, Age = {self.age}\" )\n",
    "\n",
    "human1 = Human(\"Rohan\", 22)\n",
    "human2 = Human(\"Siraj\", 24)\n",
    "\n",
    "human1.human_char()\n",
    "human2.human_char()"
   ]
  },
  {
   "cell_type": "markdown",
   "id": "63376b83-2600-409c-a274-9fedc7af72a1",
   "metadata": {},
   "source": [
    "Q2 SOLUTION:"
   ]
  },
  {
   "cell_type": "markdown",
   "id": "3aabf251-bc06-4497-929a-d91dbfe492da",
   "metadata": {},
   "source": [
    "The Four pillars of OOPs are \n",
    "1. Polymorphism\n",
    "2. Inheritance\n",
    "3. Encapsulation\n",
    "4. Abstraction"
   ]
  },
  {
   "cell_type": "markdown",
   "id": "e99e90b6-aa53-496b-a9f6-e6703a4f832c",
   "metadata": {},
   "source": [
    "Q3 SOLUTION"
   ]
  },
  {
   "cell_type": "markdown",
   "id": "b91ce165-eb24-4784-9cea-dd7ecb679b3b",
   "metadata": {},
   "source": [
    "A constructor of a class in Python is defined using the __ init__ method. The python __ init__ is a reserved method in Python that behaves like any other member function of the class, except the statements written under its definition are used to initialize the data members of a class in Python, i.e. it basically contains assignment statements. This method is automatically called at the time of class instantiation or object creation. "
   ]
  },
  {
   "cell_type": "markdown",
   "id": "8237f6d9-a648-47f9-ab27-8a224be6548f",
   "metadata": {},
   "source": [
    "The __ init__ function is called every time an object is created from a class. \n",
    "\n",
    "The __ init__ method lets the class initialize the object's attributes and serves no other purpose. It is only used within classes."
   ]
  },
  {
   "cell_type": "code",
   "execution_count": 4,
   "id": "990a534f-f04d-4780-9bf4-2d3ed1ca3576",
   "metadata": {},
   "outputs": [
    {
     "name": "stdout",
     "output_type": "stream",
     "text": [
      "Tesla ModelX\n",
      "Toyota Camry\n"
     ]
    }
   ],
   "source": [
    "class Car:\n",
    "    def __init__(self, make, model):\n",
    "        self.make = make\n",
    "        self.model = model\n",
    "    def car_properties(self):\n",
    "        print(self.make, self.model)\n",
    "car1 = Car(\"Tesla\", \"ModelX\")\n",
    "car2 = Car(\"Toyota\", \"Camry\")\n",
    "\n",
    "car1.car_properties()\n",
    "car2.car_properties()    "
   ]
  },
  {
   "cell_type": "markdown",
   "id": "b5062af3-40c9-4c54-aa94-4f6c17023ff9",
   "metadata": {},
   "source": [
    "Q4 SOLUTION:"
   ]
  },
  {
   "cell_type": "markdown",
   "id": "eefb702d-4b6e-47c4-b874-c4def87a100e",
   "metadata": {},
   "source": [
    "The self variable is used to represent the instance of the class which is often used in object-oriented programming. It works as a reference to the object. Python uses the self parameter to refer to instance attributes and methods of the class.  \n",
    "\n",
    "Unlike other programming languages, Python does not use the “@” syntax to access the instance attributes. This is the sole reason why you need to use the self variable in Python. The language contains methods that allow the instance to be passed automatically but not received automatically. "
   ]
  },
  {
   "cell_type": "markdown",
   "id": "19f9ce63-23d3-4ef7-ab3a-5ab362e4a3f6",
   "metadata": {},
   "source": [
    "Q5 SOLUTION:"
   ]
  },
  {
   "cell_type": "markdown",
   "id": "11a4af60-4fd4-49c7-8f72-06e5ee10984f",
   "metadata": {},
   "source": [
    "In inheritance, the child class acquires the properties and can access all the data members and functions defined in the parent class. A child class can also provide its specific implementation to the functions of the parent class."
   ]
  },
  {
   "cell_type": "markdown",
   "id": "ce5d520e-a26c-4177-b86b-8e98aa04f88c",
   "metadata": {},
   "source": [
    "1. Python Multi-Level inheritance:\n",
    "Multi-Level inheritance is possible in python like other object-oriented languages. Multi-level inheritance is archived when a derived class inherits another derived class. There is no limit on the number of levels up to which, the multi-level inheritance is archived in python.  \n",
    "\n",
    "Example"
   ]
  },
  {
   "cell_type": "code",
   "execution_count": 7,
   "id": "88b59bc6-0d76-4a7a-b925-5ea191a90e4a",
   "metadata": {},
   "outputs": [
    {
     "name": "stdout",
     "output_type": "stream",
     "text": [
      "Child hair: black\n",
      "Child eyes: brown\n",
      "Child Nose: sharp\n"
     ]
    }
   ],
   "source": [
    "class Grandfather:\n",
    "    def hair(self):\n",
    "        return \"black\"\n",
    "class Father(Grandfather):\n",
    "    def eyes(self):\n",
    "        return \"brown\"\n",
    "class Child(Father):\n",
    "    def nose(self):\n",
    "        return \"sharp\"\n",
    "\n",
    "child = Child()\n",
    "print(\"Child hair:\", child.hair())\n",
    "print(\"Child eyes:\", child.eyes())\n",
    "print(\"Child Nose:\", child.nose())\n",
    "\n",
    "#the child class inherits from father as well as grandfather class. this is called multilevel inheritance"
   ]
  },
  {
   "cell_type": "markdown",
   "id": "2e92fb89-791c-496b-92a7-616542d8d84e",
   "metadata": {},
   "source": [
    "2. Multiple Inheritance:\n",
    "\n",
    "In multiple inheritance, a single child class is inherited from two or more parent classes. Example:"
   ]
  },
  {
   "cell_type": "code",
   "execution_count": null,
   "id": "130c17f7-1326-41b9-add1-023486802947",
   "metadata": {},
   "outputs": [],
   "source": []
  }
 ],
 "metadata": {
  "kernelspec": {
   "display_name": "Python 3 (ipykernel)",
   "language": "python",
   "name": "python3"
  },
  "language_info": {
   "codemirror_mode": {
    "name": "ipython",
    "version": 3
   },
   "file_extension": ".py",
   "mimetype": "text/x-python",
   "name": "python",
   "nbconvert_exporter": "python",
   "pygments_lexer": "ipython3",
   "version": "3.10.8"
  }
 },
 "nbformat": 4,
 "nbformat_minor": 5
}
