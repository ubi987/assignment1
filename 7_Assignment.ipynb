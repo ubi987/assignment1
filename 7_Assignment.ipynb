{
 "cells": [
  {
   "cell_type": "markdown",
   "id": "5741b040-fe24-499a-b1d3-744be2abb75c",
   "metadata": {},
   "source": [
    "Q1 SOLUTION:"
   ]
  },
  {
   "cell_type": "markdown",
   "id": "2be95544-c977-47c5-8641-640440212b52",
   "metadata": {},
   "source": [
    "Abstraction is an OOP concept that focuses only on relevant data of an object. It hides the background details and emphasizes the essential data points for reducing the complexity and increase efficiency. It generally retains only information which is most relevant for that specific process. Abstraction method mainly focusses on the idea instead of actual functioning.\n",
    "\n",
    "Abstraction is the process of hiding the internal details of an application from the outer world. Abstraction is used to describe things in simple terms. It’s used to create a boundary between the application and the client programs."
   ]
  },
  {
   "cell_type": "markdown",
   "id": "2e0d1703-05a2-4630-9bde-898b2f0849dd",
   "metadata": {},
   "source": [
    "It shows only the necessary information and hides the other irrelevant information. Abstraction is implemented using Abstraction classes and interfaces . The problems in Abstraction are solved at design or interface level."
   ]
  },
  {
   "cell_type": "markdown",
   "id": "b3f58a67-d37e-4bc1-89cd-38bd26d36679",
   "metadata": {},
   "source": [
    "An abstract class can be considered as a blueprint for other classes. It allows you to create a set of methods that must be created within any child classes built from the abstract class. A class which contains one or more abstract methods is called an abstract class. An abstract method is a method that has a declaration but does not have an implementation. "
   ]
  },
  {
   "cell_type": "code",
   "execution_count": 3,
   "id": "2840dc23-40b6-4458-bc3b-8811a2cba79a",
   "metadata": {},
   "outputs": [
    {
     "name": "stdout",
     "output_type": "stream",
     "text": [
      "Square has four sides\n",
      "Triangle has 3 sides\n"
     ]
    }
   ],
   "source": [
    "from abc import ABC\n",
    "class Shape(ABC):\n",
    "  @abc.abstractmethod\n",
    "  def sides(self):\n",
    "    pass\n",
    "\n",
    "class Square(Shape):\n",
    "  def sides(self):\n",
    "    return \"Square has four sides\"\n",
    "\n",
    "class Triangle(Shape):\n",
    "  def sides(self):\n",
    "    return \"Triangle has 3 sides\"\n",
    "\n",
    "square = Square()\n",
    "print(square.sides())\n",
    "\n",
    "tri = Triangle()\n",
    "print(tri.sides())"
   ]
  },
  {
   "cell_type": "markdown",
   "id": "ad035205-c622-4969-8ee2-3a821b8797a7",
   "metadata": {},
   "source": [
    "Q2 SOLUTION:"
   ]
  },
  {
   "cell_type": "markdown",
   "id": "b5e2c108-134c-4637-8102-03e36152cf6d",
   "metadata": {},
   "source": [
    "Abstraction is an OOP concept that focuses only on relevant data of an object. It hides the background details and emphasizes the essential data points for reducing the complexity and increase efficiency. It generally retains only information which is most relevant for that specific process. Abstraction method mainly focusses on the idea instead of actual functioning."
   ]
  },
  {
   "cell_type": "markdown",
   "id": "9b9715ca-2015-4303-a02b-782b64d038c1",
   "metadata": {},
   "source": [
    "Encapsulation is a method of making a complex system easier to handle for end users. The user need not worry about internal details and complexities of the system. Encapsulation is a process of wrapping the data and the code, that operate on the data into a single entity. You can assume it as a protective wrapper that stops random access of code defined outside that wrapper."
   ]
  },
  {
   "cell_type": "markdown",
   "id": "9bb7579b-7736-42b6-97e9-e206b951435c",
   "metadata": {},
   "source": [
    "Abstraction shows only useful data by providing the most necessary details, whereas Encapsulation wraps code and data for necessary information.\n",
    "\n",
    "Abstraction is focused mainly on what should be done, while Encapsulation is focused on how it should be done.\n",
    "\n",
    "Abstraction hides complexity by giving you a more abstract picture, while Encapsulation hides internal work so that you can change it later.\n",
    "\n",
    "Abstraction solves problems at the design level while Encapsulation solves problems at the implementation level.\n",
    "\n",
    "Abstraction hides the irrelevant details found in the code, whereas Encapsulation helps developers to organize the entire code easily.\n"
   ]
  },
  {
   "cell_type": "markdown",
   "id": "e5b34952-4456-496c-be56-a88fef70f12f",
   "metadata": {},
   "source": [
    "Abstraction is a design level process and it is used to reduce the complexity at the designing stage of a project. Encapsulation is an implementation level process, and it is used to provide privacy and maintain control over the transparency of data at the implementation stage of a project."
   ]
  },
  {
   "cell_type": "markdown",
   "id": "2d58b5e8-ae2f-4621-ad74-97ac216d7977",
   "metadata": {},
   "source": [
    "Example of abstraction is\n"
   ]
  },
  {
   "cell_type": "code",
   "execution_count": 4,
   "id": "3f301cd7-c6e4-4d8c-91fa-4e8b6220225b",
   "metadata": {},
   "outputs": [
    {
     "name": "stdout",
     "output_type": "stream",
     "text": [
      "Pigeon has purple colour\n",
      "Crow has black colour\n"
     ]
    }
   ],
   "source": [
    "from abc import ABC\n",
    "class Bird(ABC):\n",
    "  @abc.abstractmethod\n",
    "  def colour(self):\n",
    "    pass\n",
    "\n",
    "class Pigeon(Bird):\n",
    "  def colour(self):\n",
    "    return \"Pigeon has purple colour\"\n",
    "\n",
    "class Crow(Bird):\n",
    "  def colour(self):\n",
    "    return \"Crow has black colour\"\n",
    "\n",
    "pig = Pigeon()\n",
    "print(pig.colour())\n",
    "\n",
    "crow = Crow()\n",
    "print(crow.colour())\n"
   ]
  },
  {
   "cell_type": "markdown",
   "id": "c82922b4-4120-41b0-a28c-f6288cbd46e9",
   "metadata": {},
   "source": [
    "Example of Encapsulation"
   ]
  },
  {
   "cell_type": "code",
   "execution_count": 8,
   "id": "509c475e-50b3-4d75-93e1-4a70649bb282",
   "metadata": {},
   "outputs": [
    {
     "name": "stdout",
     "output_type": "stream",
     "text": [
      "Rahul's age before setting is 20\n",
      "Rahul's age after setting is 25\n"
     ]
    }
   ],
   "source": [
    "class Human:\n",
    "    def __init__(self, name, age):\n",
    "        self.__name = name\n",
    "        self.__age = age\n",
    "    \n",
    "    def get_age(self):\n",
    "        return self.__age\n",
    "    \n",
    "    def set_age(self, age):\n",
    "        self.__age = age\n",
    "        \n",
    "rahul = Human(\"Rahul\", 20)\n",
    "#Getting Rahul's age using get nethod\n",
    "print(\"Rahul's age before setting is\", rahul.get_age())\n",
    "\n",
    "#Setting Rahul's age using set nethod\n",
    "rahul.set_age(25)\n",
    "\n",
    "print(\"Rahul's age after setting is\", rahul.get_age())"
   ]
  },
  {
   "cell_type": "markdown",
   "id": "5d910d0d-a8f7-40a4-a9fa-88e85d156b12",
   "metadata": {},
   "source": [
    "Q3 SOLUTION:"
   ]
  },
  {
   "cell_type": "markdown",
   "id": "3760fa6e-d511-4d7f-ac1a-e9cc95ea810b",
   "metadata": {},
   "source": [
    "The \"abc\" module provides the infrastructure for defining abstract base classes (ABCs) in Python."
   ]
  },
  {
   "cell_type": "markdown",
   "id": "7a41b703-0430-4e3f-8a29-a56ac3809068",
   "metadata": {},
   "source": [
    "why it is used:"
   ]
  },
  {
   "cell_type": "markdown",
   "id": "05eef4a0-8eb4-4a16-85b4-fd57e95d33c7",
   "metadata": {},
   "source": [
    "The main goal of the abstract base class is to provide a standardized way to test whether an object adheres to a given specification. It can also prevent any attempt to instantiate a subclass that doesn’t override a particular method in the superclass. And finally, using an abstract class, a class can derive identity from another class without any object inheritance."
   ]
  },
  {
   "cell_type": "markdown",
   "id": "84843d89-d385-4638-bcc2-e20433b33fb6",
   "metadata": {},
   "source": [
    "The key purpose of the abstract class is to check whether an object conforms to a particular protocol.  It is a valuable class for testing certain attributes of a class or testing class itself. Another advantage is it provides a flexible way for developers to test common types of collections.  "
   ]
  },
  {
   "cell_type": "markdown",
   "id": "c6b2ee45-100e-4c7a-855d-26deaf91433e",
   "metadata": {},
   "source": [
    "Q4 SOLUTION:"
   ]
  },
  {
   "cell_type": "markdown",
   "id": "782f9c47-2aeb-4b03-8303-8874aae3665d",
   "metadata": {},
   "source": [
    "Data Abstraction in Python can be achieved through creating abstract classes and inheriting them later."
   ]
  },
  {
   "cell_type": "markdown",
   "id": "2b6921dd-ee08-4c78-aa28-3152573dbc55",
   "metadata": {},
   "source": [
    "Abstraction can be achieved by having/using abstract classes and methods in our programs.\n",
    "\n",
    "An abstract method is a method that is declared, but does not contain implementation. An abstract method in a base class identifies the functionality that should be implemented by all its subclasses. However, since the implementation of an abstract method would differ from one subclass to another, often the method body comprises just a pass statement. Every subclass of the base class will ride this method with its implementation. A class containing abstract methods is called abstract class.Python provides the abc module to use the abstraction in the Python program"
   ]
  },
  {
   "cell_type": "markdown",
   "id": "65a7bf22-9752-491b-8caa-36caad5611c2",
   "metadata": {},
   "source": [
    "Abstract methods force the child classes to give the implementation of these methods in them and thus help us achieve abstraction as each subclass can give its own implementation"
   ]
  },
  {
   "cell_type": "markdown",
   "id": "89ede3c1-5bfd-44b8-9369-5d6c4ad36e40",
   "metadata": {},
   "source": [
    "Q5 Solution:"
   ]
  },
  {
   "cell_type": "markdown",
   "id": "dfa56153-8702-4c5a-b687-1a33940ad548",
   "metadata": {},
   "source": [
    "Abstract classes are not complete, as they may have some methods that are not defined. So we cannot create an instance or object of an abstract class in Python."
   ]
  },
  {
   "cell_type": "markdown",
   "id": "834009f8-0044-42e3-9eea-6dae2c86c5f2",
   "metadata": {},
   "source": [
    "As seen above, we can't create an object of an abstract class. But we can create a reference variable of an abstract class. The reference variable is used to refer to the objects of derived classes (subclasses of abstract class).\n",
    "\n",
    "An abstract class means hiding the implementation and showing the function definition to the user is known as Abstract class. A abstract class can have instance methods that implement a default behavior if we know the requirement and partially implementation we can go for an abstract class."
   ]
  },
  {
   "cell_type": "markdown",
   "id": "bec0b9df-35d3-42a6-9a34-4cc064a22796",
   "metadata": {},
   "source": [
    "An abstract class is a class, but not one you can create objects from directly. Its purpose is to define how other classes should look like, i.e. what methods and properties they are expected to have.\n",
    "\n",
    "The methods and properties defined (but not implemented) in an abstract class are called abstract methods and abstract properties. All abstract methods and properties need to be implemented in a child class in order to be able to create objects from it.\n",
    "\n"
   ]
  },
  {
   "cell_type": "markdown",
   "id": "49546bb1-2e0a-4611-87f5-04d733afc1d5",
   "metadata": {},
   "source": [
    "If we try to instantiate the abstract class, it raises an error"
   ]
  },
  {
   "cell_type": "markdown",
   "id": "a080cad1-f5c4-482a-afb2-72f89626e1ca",
   "metadata": {},
   "source": [
    "End of assignment"
   ]
  },
  {
   "cell_type": "code",
   "execution_count": null,
   "id": "9119a84a-24df-4561-a875-fe7dd3722eee",
   "metadata": {},
   "outputs": [],
   "source": []
  }
 ],
 "metadata": {
  "kernelspec": {
   "display_name": "Python 3 (ipykernel)",
   "language": "python",
   "name": "python3"
  },
  "language_info": {
   "codemirror_mode": {
    "name": "ipython",
    "version": 3
   },
   "file_extension": ".py",
   "mimetype": "text/x-python",
   "name": "python",
   "nbconvert_exporter": "python",
   "pygments_lexer": "ipython3",
   "version": "3.10.8"
  }
 },
 "nbformat": 4,
 "nbformat_minor": 5
}
