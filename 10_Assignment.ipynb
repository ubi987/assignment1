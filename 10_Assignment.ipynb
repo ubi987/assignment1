{
 "cells": [
  {
   "cell_type": "markdown",
   "id": "d7c99387-4a11-4589-aeeb-e019def47555",
   "metadata": {},
   "source": [
    "Q1 SOLUTION:"
   ]
  },
  {
   "cell_type": "markdown",
   "id": "b7249cd6-02c4-4156-86af-d330906b4c7c",
   "metadata": {},
   "source": [
    "A thread is a unit of execution on concurrent programming. Multithreading is a technique which allows a CPU to execute many tasks of one process at the same time. These threads can execute individually while sharing their process resources."
   ]
  },
  {
   "cell_type": "markdown",
   "id": "2a158b79-c293-4290-8ab9-339249501e33",
   "metadata": {},
   "source": [
    "Multithreading is a stringing procedure in Python programming to run various strings simultaneously by quickly exchanging between strings with a central processor help (called setting exchanging). In addition, it makes it possible to share its data space with the primary threads of a process, making it easier than with individual processes to share information and communicate with other threads. The goal of multithreading is to complete multiple tasks at the same time, which improves application rendering and performance."
   ]
  },
  {
   "cell_type": "markdown",
   "id": "e792d41a-5d3e-4801-84de-391fb87c8b07",
   "metadata": {},
   "source": [
    "We use multithreading because of the following reason:"
   ]
  },
  {
   "cell_type": "markdown",
   "id": "a98b8943-5768-405f-91f2-d7bc14982040",
   "metadata": {},
   "source": [
    "Python multithreading enables efficient utilization of the resources as the threads share the data space and memory. Multithreading in Python allows the concurrent and parallel occurrence of various tasks. It causes a reduction in time consumption or response time, thereby increasing the performance."
   ]
  },
  {
   "cell_type": "markdown",
   "id": "5e0e590f-9c54-4f49-917f-5357dc9c9fc0",
   "metadata": {},
   "source": [
    "There are two main modules of multithreading used to handle threads in Python.\n",
    "\n",
    "1. The thread module\n",
    "2. The threading module"
   ]
  },
  {
   "cell_type": "markdown",
   "id": "0973fa38-b55d-4e55-8873-0a756b7cebd5",
   "metadata": {},
   "source": [
    "Q2 SOLUTION:"
   ]
  },
  {
   "cell_type": "markdown",
   "id": "3979a108-abe1-4985-b389-1d3c4aa3fee0",
   "metadata": {},
   "source": [
    "The threading module in Python is used to create and manage threads within a Python program. A thread is a separate flow of execution within a process, allowing concurrent execution of multiple tasks. Here are some reasons why the threading module is used in Python:\n",
    "\n",
    "1. Concurrency: Threads allow you to perform multiple tasks simultaneously or concurrently. This is particularly useful when you have tasks that can run independently and can benefit from parallel execution. For example, if you have a program that needs to perform network requests, file I/O, and computation, you can use threads to execute these tasks concurrently, improving overall performance.\n",
    "\n",
    "2. Responsiveness: In applications with a graphical user interface (GUI), threading can help prevent the user interface from becoming unresponsive while performing long-running tasks. By running those tasks in separate threads, the main thread responsible for the user interface can remain responsive, allowing users to interact with the program.\n",
    "\n",
    "3. Asynchronous Operations: Threads can be used to perform asynchronous operations, allowing you to start a task and continue with other work without waiting for the task to complete. This is beneficial when dealing with tasks that involve waiting for external resources like network requests or database queries. By using threads, you can initiate those tasks and move on to other work, checking for completion or collecting results later.\n",
    "\n",
    "4. Parallel Computing: If you have a computationally intensive task that can be divided into smaller parts, you can use threads to achieve parallel execution on multi-core processors. Each thread can work on a different portion of the task, allowing for potentially faster execution compared to sequential processing.\n",
    "\n",
    "5. Resource Sharing: Threads can share data and resources within the same process. This can be useful when multiple threads need to access and modify shared data structures, such as lists, queues, or databases. The threading module provides synchronization mechanisms, such as locks and semaphores, to ensure safe access and prevent data corruption."
   ]
  },
  {
   "cell_type": "markdown",
   "id": "88034d58-e57c-4e45-be6c-ef03e458ac2b",
   "metadata": {},
   "source": [
    "(A) activeCount():"
   ]
  },
  {
   "cell_type": "markdown",
   "id": "2219bd08-770c-42ce-b854-a92b7ff30fb1",
   "metadata": {},
   "source": [
    "In the threading module of Python, the activeCount() method is used to retrieve the number of active threads in the current thread's ThreadGroup."
   ]
  },
  {
   "cell_type": "code",
   "execution_count": 4,
   "id": "c787c020-6b9e-4d9c-9091-fae4d389c3c3",
   "metadata": {},
   "outputs": [
    {
     "name": "stdout",
     "output_type": "stream",
     "text": [
      "Number of active threads: 8\n"
     ]
    }
   ],
   "source": [
    "import threading\n",
    "\n",
    "def my_thread_function():\n",
    "    pass\n",
    "\n",
    "thread1 = threading.Thread(target=my_thread_function)\n",
    "thread2 = threading.Thread(target=my_thread_function)\n",
    "thread3 = threading.Thread(target=my_thread_function)\n",
    "\n",
    "thread1.start()\n",
    "thread2.start()\n",
    "thread3.start()\n",
    "\n",
    "num_active_threads = threading.active_count()\n",
    "print(\"Number of active threads:\", num_active_threads)\n"
   ]
  },
  {
   "cell_type": "markdown",
   "id": "40872142-5ee2-4d60-b6a4-7b045e84efdf",
   "metadata": {},
   "source": [
    "(B) currentThread() :"
   ]
  },
  {
   "cell_type": "markdown",
   "id": "7a973cfe-61ce-406d-ae9c-9097650c473d",
   "metadata": {},
   "source": [
    "The currentThread() function is a method provided by the threading module in Python. It returns the current Thread object representing the thread from which the function is called."
   ]
  },
  {
   "cell_type": "code",
   "execution_count": 3,
   "id": "c8261f8a-46d1-4239-8478-9ad8883ab426",
   "metadata": {},
   "outputs": [
    {
     "name": "stdout",
     "output_type": "stream",
     "text": [
      "Current thread name: Thread-7 (my_thread_function)\n"
     ]
    }
   ],
   "source": [
    "import threading\n",
    "\n",
    "def my_thread_function():\n",
    "    current_thread = threading.current_thread()\n",
    "    print(\"Current thread name:\", current_thread.name)\n",
    "\n",
    "thread = threading.Thread(target=my_thread_function)\n",
    "\n",
    "thread.start()"
   ]
  },
  {
   "cell_type": "markdown",
   "id": "65d22a46-adb8-4ed8-b421-7cada819b59f",
   "metadata": {},
   "source": [
    "(C) enumerate():"
   ]
  },
  {
   "cell_type": "markdown",
   "id": "419bf34a-5416-4dc9-871f-19eca5202456",
   "metadata": {},
   "source": [
    "threading.enumerate() returns a list of all Thread objects currently alive. The list includes daemonic threads, dummy thread objects created by current_thread(), and the main thread. It excludes terminated threads and threads that have not yet been started."
   ]
  },
  {
   "cell_type": "code",
   "execution_count": 2,
   "id": "a56c53d5-ea17-4da0-84db-a9debbe17e07",
   "metadata": {},
   "outputs": [
    {
     "name": "stdout",
     "output_type": "stream",
     "text": [
      "Threads alive in the starting: [<_MainThread(MainThread, started 140318882527040)>, <Thread(IOPub, started daemon 140318811997760)>, <Heartbeat(Heartbeat, started daemon 140318729041472)>, <Thread(Thread-3 (_watch_pipe_fd), started daemon 140318703863360)>, <Thread(Thread-4 (_watch_pipe_fd), started daemon 140318695470656)>, <ControlThread(Control, started daemon 140318687077952)>, <HistorySavingThread(IPythonHistorySavingThread, started 140318678685248)>, <ParentPollerUnix(Thread-2, started daemon 140318259279424)>]\n",
      "\n",
      "Threads alive when thread_2 executes\n",
      "<_MainThread(MainThread, started 140318882527040)>\n",
      "<Thread(IOPub, started daemon 140318811997760)>\n",
      "<Heartbeat(Heartbeat, started daemon 140318729041472)>\n",
      "<Thread(Thread-3 (_watch_pipe_fd), started daemon 140318703863360)>\n",
      "<Thread(Thread-4 (_watch_pipe_fd), started daemon 140318695470656)>\n",
      "<ControlThread(Control, started daemon 140318687077952)>\n",
      "<HistorySavingThread(IPythonHistorySavingThread, started 140318678685248)>\n",
      "<ParentPollerUnix(Thread-2, started daemon 140318259279424)>\n",
      "<Thread(Thread-7 (thread_1), started 140318250886720)>\n",
      "<Thread(Thread-8 (thread_2), started 140318242494016)>\n",
      "\n",
      "Threads alive when thread_4 executes\n",
      "<_MainThread(MainThread, started 140318882527040)>\n",
      "<Thread(IOPub, started daemon 140318811997760)>\n",
      "<Heartbeat(Heartbeat, started daemon 140318729041472)>\n",
      "<Thread(Thread-3 (_watch_pipe_fd), started daemon 140318703863360)>\n",
      "<Thread(Thread-4 (_watch_pipe_fd), started daemon 140318695470656)>\n",
      "<ControlThread(Control, started daemon 140318687077952)>\n",
      "<HistorySavingThread(IPythonHistorySavingThread, started 140318678685248)>\n",
      "<ParentPollerUnix(Thread-2, started daemon 140318259279424)>\n",
      "<Thread(Thread-7 (thread_1), started 140318250886720)>\n",
      "<Thread(Thread-9 (thread_3), started 140318242494016)>\n",
      "<Thread(Thread-10 (thread_4), started 140318234101312)>\n",
      "\n",
      "Threads alive when thread_1 executes:\n",
      "<_MainThread(MainThread, started 140318882527040)>\n",
      "<Thread(IOPub, started daemon 140318811997760)>\n",
      "<Heartbeat(Heartbeat, started daemon 140318729041472)>\n",
      "<Thread(Thread-3 (_watch_pipe_fd), started daemon 140318703863360)>\n",
      "<Thread(Thread-4 (_watch_pipe_fd), started daemon 140318695470656)>\n",
      "<ControlThread(Control, started daemon 140318687077952)>\n",
      "<HistorySavingThread(IPythonHistorySavingThread, started 140318678685248)>\n",
      "<ParentPollerUnix(Thread-2, started daemon 140318259279424)>\n",
      "<Thread(Thread-7 (thread_1), started 140318250886720)>\n",
      "\n"
     ]
    }
   ],
   "source": [
    "import time\n",
    "import threading\n",
    "\n",
    "def thread_1(i):\n",
    "    time.sleep(5)\n",
    "    print(\"Threads alive when thread_1 executes:\")\n",
    "    print(*threading.enumerate(), sep = \"\\n\")\n",
    "        \n",
    "    print()\n",
    "\n",
    "def thread_2(i):\n",
    "    print(\"Threads alive when thread_2 executes\")\n",
    "    print(*threading.enumerate(), sep = \"\\n\")\n",
    "    print()\n",
    "    \n",
    "def thread_3(i):\n",
    "    time.sleep(4)\n",
    "    \n",
    "    \n",
    "def thread_4(i):\n",
    "    time.sleep(1)\n",
    "    print(\"Threads alive when thread_4 executes\")\n",
    "    print(*threading.enumerate(), sep = \"\\n\")\n",
    "    print()\n",
    "\n",
    "thread1 = threading.Thread(target=thread_1, args=(10,))\n",
    "thread2 = threading.Thread(target=thread_2, args=(20,))\n",
    "thread3 = threading.Thread(target=thread_3, args=(30,))\n",
    "thread4 = threading.Thread(target=thread_4, args=(50,))\n",
    "\n",
    "print(\"Threads alive in the starting:\", threading.enumerate())\n",
    "print()\n",
    "\n",
    "thread1.start()\n",
    "thread2.start()\n",
    "thread3.start()\n",
    "thread4.start()"
   ]
  },
  {
   "cell_type": "markdown",
   "id": "86fd51b0-7bf1-4738-b427-684b7ec0ed96",
   "metadata": {},
   "source": [
    "Q3 SOLUTION:"
   ]
  },
  {
   "cell_type": "markdown",
   "id": "be6ffce5-e49b-4ef8-bb75-e70e44a50b12",
   "metadata": {},
   "source": [
    "run(): The run() method is defined in the Thread class, and it represents the code that will be executed when a thread starts. You can override this method in a subclass to define the specific behavior of the thread. However, it is typically not called directly. Instead, the start() method is used to start the execution of a thread, which internally calls the run() method.\n",
    "\n",
    "start(): The start() method is called on a Thread object to start the execution of a thread. When start() is invoked, a new thread is created, and the run() method of the thread is invoked in that separate thread. The start() method returns immediately, allowing the main thread to continue its execution without waiting for the target thread to finish.\n",
    "\n",
    "join(timeout): The join() method is used to wait for a thread to complete its execution. When the join() method is called on a thread, the calling thread is blocked until the target thread finishes its execution. The optional timeout argument specifies the maximum time the calling thread should wait for the target thread to finish. If the timeout is specified and elapsed before the thread completes, the calling thread will resume its execution.\n",
    "\n",
    "isAlive(): The isAlive() method is used to check if a thread is currently running. It returns True if the thread is alive (i.e., running), and False otherwise. A thread is considered alive from the moment it is started until it completes its execution or is terminated."
   ]
  },
  {
   "cell_type": "markdown",
   "id": "847fac83-9d5c-49de-bdf1-06ff96900f6d",
   "metadata": {},
   "source": [
    "Q4 SOLUTION:"
   ]
  },
  {
   "cell_type": "code",
   "execution_count": 1,
   "id": "bb8a3cca-eca2-492b-af73-c2bf47cd28e3",
   "metadata": {},
   "outputs": [
    {
     "name": "stdout",
     "output_type": "stream",
     "text": [
      "[1, 4, 9, 16]\n",
      "[1, 8, 27, 64]\n"
     ]
    }
   ],
   "source": [
    "import threading\n",
    "list1= []\n",
    "list2= []\n",
    "def print_squares():\n",
    "    for i in range(1, 5):\n",
    "        square = i ** 2\n",
    "        list1.append(square)\n",
    "    print(list1)\n",
    "def print_cubes():\n",
    "    for i in range(1, 5):\n",
    "        cube = i ** 3\n",
    "        list2.append(cube)\n",
    "    print(list2)\n",
    "\n",
    "thread1 = threading.Thread(target=print_squares)\n",
    "\n",
    "thread2 = threading.Thread(target=print_cubes)\n",
    "\n",
    "thread1.start()\n",
    "thread2.start()\n",
    "\n",
    "thread1.join()\n",
    "thread2.join()\n"
   ]
  },
  {
   "cell_type": "markdown",
   "id": "b536812a-7d55-4f6b-9d70-050a7d6bb406",
   "metadata": {},
   "source": [
    "Q5 SOLUTION:"
   ]
  },
  {
   "cell_type": "markdown",
   "id": "b078e10d-f6c4-41e9-9430-0274f50d312d",
   "metadata": {},
   "source": [
    "Advantages of Multithreading in Python:\n",
    "\n",
    "1. Concurrency and Parallelism: Multithreading enables concurrent execution of multiple tasks, allowing for improved performance by utilizing available CPU resources effectively. It enables parallelism, especially on multi-core processors, where tasks can be executed simultaneously.\n",
    "\n",
    "2. Responsiveness and User Experience: Multithreading can enhance the responsiveness of applications, particularly in GUI-based programs, by offloading time-consuming tasks to separate threads. This ensures that the user interface remains interactive and doesn't freeze during long-running operations.\n",
    "\n",
    "3. Efficient Resource Utilization: Multithreading allows for efficient utilization of system resources. It enables better utilization of CPU cycles by keeping the processor busy with multiple threads, even if some threads are blocked or waiting for I/O operations.\n",
    "\n",
    "4. Improved Throughput: By executing tasks concurrently, multithreading can improve the overall throughput of an application. This is particularly beneficial when dealing with I/O-bound operations, such as network requests or file I/O, where threads can overlap I/O waits by switching to other tasks.\n",
    "\n",
    "Disadvantages of Multithreading in Python:\n",
    "\n",
    "1. Complexity of Synchronization: Multithreading introduces the challenge of coordinating access to shared resources. Ensuring thread safety and avoiding race conditions requires careful synchronization mechanisms, such as locks, semaphores, or other synchronization primitives. Handling synchronization correctly can be complex and error-prone, leading to potential bugs and issues.\n",
    "\n",
    "2. Potential for Deadlocks and Race Conditions: Incorrect synchronization can lead to deadlocks, where threads wait indefinitely for resources that are held by other threads. Additionally, race conditions may occur when multiple threads access shared data simultaneously, leading to unpredictable results or data corruption.\n",
    "\n",
    "3. Global Interpreter Lock (GIL): Python has a Global Interpreter Lock (GIL) that allows only one thread to execute Python bytecode at a time, even on multi-core systems. The GIL can limit the potential performance gains from multithreading in CPU-bound tasks, as only one thread can execute Python code at a given time.\n",
    "\n",
    "4. Increased Memory Usage: Each thread in Python has its own stack and requires additional memory. With a large number of threads, the memory footprint of the program can increase significantly. This can be a concern when working with resource-constrained systems or applications that require high scalability.\n",
    "\n",
    "5. Debugging and Testing: Multithreaded programs can be challenging to debug and test due to the non-deterministic nature of thread execution. Issues such as race conditions or deadlocks may be difficult to reproduce consistently, making it harder to identify and fix bugs."
   ]
  },
  {
   "cell_type": "markdown",
   "id": "117c47a1-0779-4eb1-858f-9cd9a46bbc73",
   "metadata": {},
   "source": [
    "Q6 SOLUTION:"
   ]
  },
  {
   "cell_type": "markdown",
   "id": "31225d36-8eac-4516-8b02-8054b31bfb38",
   "metadata": {},
   "source": [
    "Deadlock:\n",
    "A deadlock is a situation in concurrent programming where two or more threads or processes are unable to proceed because each is waiting for a resource that is held by another thread or process in the same set. In other words, it's a scenario where two or more threads are blocked forever, waiting for each other to release resources.\n",
    "\n",
    "A deadlock occurs when the following conditions are met:\n",
    "\n",
    "1. Mutual Exclusion: At least one resource must be held in a non-shareable mode, meaning only one thread can use it at a time.\n",
    "2. Hold and Wait: A thread holds a resource and waits for another resource at the same time.\n",
    "3. No Preemption: Resources cannot be forcibly taken away from threads. They can only be released voluntarily by the thread holding them.\n",
    "4. Circular Wait: There is a circular chain of two or more threads, where each thread is waiting for a resource that is held by another thread in the chain.\n",
    "Deadlocks can cause programs to hang or become unresponsive, as the threads involved are unable to make any progress. Detecting and resolving deadlocks requires careful analysis of resource allocation and synchronization mechanisms.\n",
    "\n",
    "Race Condition:\n",
    "A race condition occurs in concurrent programming when multiple threads access and manipulate shared data concurrently, and the final result depends on the order or timing of their execution. In other words, it's a situation where the output of a program becomes unpredictable due to the non-deterministic interleaving of thread execution.\n",
    "\n",
    "Race conditions can occur when the following conditions are met:\n",
    "\n",
    "Shared Data: Multiple threads or processes access and modify shared data.\n",
    "Concurrent Access: The access and modification of the shared data occur concurrently.\n",
    "Lack of Synchronization: There is a lack of proper synchronization mechanisms to coordinate access to the shared data.\n",
    "When race conditions occur, the outcome of the program can vary each time it is run, leading to incorrect or inconsistent results. Race conditions can result in data corruption, unexpected behavior, or program crashes."
   ]
  },
  {
   "cell_type": "code",
   "execution_count": null,
   "id": "9000b6ae-82c6-466c-8701-5cc8394543e4",
   "metadata": {},
   "outputs": [],
   "source": []
  }
 ],
 "metadata": {
  "kernelspec": {
   "display_name": "Python 3 (ipykernel)",
   "language": "python",
   "name": "python3"
  },
  "language_info": {
   "codemirror_mode": {
    "name": "ipython",
    "version": 3
   },
   "file_extension": ".py",
   "mimetype": "text/x-python",
   "name": "python",
   "nbconvert_exporter": "python",
   "pygments_lexer": "ipython3",
   "version": "3.10.8"
  }
 },
 "nbformat": 4,
 "nbformat_minor": 5
}
