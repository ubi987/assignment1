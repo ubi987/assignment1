{
 "cells": [
  {
   "cell_type": "markdown",
   "id": "e1c1ee11-a2b2-487b-99d8-93e5eea46ea6",
   "metadata": {},
   "source": [
    "Q1. Create one variable containing following type of data:"
   ]
  },
  {
   "cell_type": "code",
   "execution_count": 5,
   "id": "6297b184-4c8b-43a0-ba17-be13c51bace2",
   "metadata": {},
   "outputs": [],
   "source": [
    "a = \"Hello World\""
   ]
  },
  {
   "cell_type": "code",
   "execution_count": 6,
   "id": "d5cbe7e3-6ddf-4be6-a77f-17c2487aac6e",
   "metadata": {},
   "outputs": [],
   "source": [
    "b = [\"Python\", True, 3, 6, 6.5]"
   ]
  },
  {
   "cell_type": "code",
   "execution_count": 8,
   "id": "064caf28-2f6f-487c-b552-467f70c7ad8f",
   "metadata": {},
   "outputs": [],
   "source": [
    "c = 55.5"
   ]
  },
  {
   "cell_type": "code",
   "execution_count": 10,
   "id": "8e0bc4a7-0ca8-4b25-b945-51e22155b4d4",
   "metadata": {},
   "outputs": [],
   "source": [
    "d = (3, 9, False, \"Python\")"
   ]
  },
  {
   "cell_type": "markdown",
   "id": "ebd671d1-4619-46f5-89ad-4f8cb7fe4807",
   "metadata": {},
   "source": [
    "Q2) Solution:"
   ]
  },
  {
   "cell_type": "markdown",
   "id": "5db53297-097f-4674-9635-11bf27e63d45",
   "metadata": {},
   "source": [
    "(i) String"
   ]
  },
  {
   "cell_type": "markdown",
   "id": "b29db7a9-fa68-4327-9e5a-972b1accc814",
   "metadata": {},
   "source": [
    "(ii) String"
   ]
  },
  {
   "cell_type": "markdown",
   "id": "055e68e4-d23e-4c84-a1ae-4a9431fb2ac8",
   "metadata": {},
   "source": [
    "(iii) List"
   ]
  },
  {
   "cell_type": "markdown",
   "id": "1d0ad6e5-419f-496f-acb3-8ffb1a3ba0bf",
   "metadata": {},
   "source": [
    "(iv) Int"
   ]
  },
  {
   "cell_type": "markdown",
   "id": "fd8adbe0-6cc7-4177-8bbd-8ed79b0f78ec",
   "metadata": {},
   "source": [
    "Q3) Solution:"
   ]
  },
  {
   "cell_type": "markdown",
   "id": "d8234c3e-0a17-4775-a749-38bf13fe6c4a",
   "metadata": {},
   "source": [
    "(i) It is a division operator which divides two numbers and gives the result. Example:"
   ]
  },
  {
   "cell_type": "code",
   "execution_count": 12,
   "id": "afb25072-c292-42d9-990d-f41805f3f7e3",
   "metadata": {},
   "outputs": [
    {
     "data": {
      "text/plain": [
       "3.5"
      ]
     },
     "execution_count": 12,
     "metadata": {},
     "output_type": "execute_result"
    }
   ],
   "source": [
    "7/2"
   ]
  },
  {
   "cell_type": "markdown",
   "id": "6d7ab57e-456c-407e-821e-2f02871db3af",
   "metadata": {},
   "source": [
    "ii) It is modulus operator which gives us the remainder when we divide two numbers. Example:"
   ]
  },
  {
   "cell_type": "code",
   "execution_count": 13,
   "id": "29e65f15-b7bf-45f6-95df-02b4ed22a9e2",
   "metadata": {},
   "outputs": [
    {
     "data": {
      "text/plain": [
       "1"
      ]
     },
     "execution_count": 13,
     "metadata": {},
     "output_type": "execute_result"
    }
   ],
   "source": [
    "5%2"
   ]
  },
  {
   "cell_type": "markdown",
   "id": "946a5734-dcc8-4ff8-a71a-3eb0fa66a2f1",
   "metadata": {},
   "source": [
    "here when we divide 5 by 2, the remainder is 1"
   ]
  },
  {
   "cell_type": "markdown",
   "id": "16198d16-9174-4d4f-a014-b37a5b3d0525",
   "metadata": {},
   "source": [
    "iii) It is a floor division operator which divides the two numbers and rounds down the result to nearest integer"
   ]
  },
  {
   "cell_type": "code",
   "execution_count": 14,
   "id": "73f913e8-2431-4dfe-a547-3f8b2e1ab5cd",
   "metadata": {},
   "outputs": [
    {
     "data": {
      "text/plain": [
       "3"
      ]
     },
     "execution_count": 14,
     "metadata": {},
     "output_type": "execute_result"
    }
   ],
   "source": [
    "23//6"
   ]
  },
  {
   "cell_type": "markdown",
   "id": "7b412623-5d4a-411f-bbb8-4edb25fcf16b",
   "metadata": {},
   "source": [
    "iv) It is an exponent operator. Example:"
   ]
  },
  {
   "cell_type": "code",
   "execution_count": 15,
   "id": "07b7883c-0e00-4f99-82bc-c2aa7cfbeda3",
   "metadata": {},
   "outputs": [
    {
     "data": {
      "text/plain": [
       "8"
      ]
     },
     "execution_count": 15,
     "metadata": {},
     "output_type": "execute_result"
    }
   ],
   "source": [
    "2**3"
   ]
  },
  {
   "cell_type": "markdown",
   "id": "c40ba814-0be6-4a5c-b999-d6fe00d4220c",
   "metadata": {},
   "source": [
    "Here the number 2 is raised to power 3 which means 2 should be multiplied 3 times which gives us the result 8"
   ]
  },
  {
   "cell_type": "markdown",
   "id": "9c11c4e3-5c1c-44d8-9cf5-aadba5c5ad17",
   "metadata": {},
   "source": [
    "Q4) Solution:"
   ]
  },
  {
   "cell_type": "code",
   "execution_count": 16,
   "id": "1fcf776c-d603-4097-b66c-13d70304f634",
   "metadata": {},
   "outputs": [],
   "source": [
    "list1 = [9, \"Python\", 7.6, True, 9, \"Delhi\", False, 5, 8, 88.6]"
   ]
  },
  {
   "cell_type": "code",
   "execution_count": 17,
   "id": "e6585241-cf76-4559-aaa9-066620898915",
   "metadata": {},
   "outputs": [
    {
     "name": "stdout",
     "output_type": "stream",
     "text": [
      "9\n",
      "Python\n",
      "7.6\n",
      "True\n",
      "9\n",
      "Delhi\n",
      "False\n",
      "5\n",
      "8\n",
      "88.6\n"
     ]
    }
   ],
   "source": [
    "# printing the values\n",
    "for i in list1:\n",
    "    print(i)"
   ]
  },
  {
   "cell_type": "code",
   "execution_count": 18,
   "id": "ee701d12-40da-4014-a9c4-aba8151da798",
   "metadata": {},
   "outputs": [
    {
     "name": "stdout",
     "output_type": "stream",
     "text": [
      "<class 'int'>\n",
      "<class 'str'>\n",
      "<class 'float'>\n",
      "<class 'bool'>\n",
      "<class 'int'>\n",
      "<class 'str'>\n",
      "<class 'bool'>\n",
      "<class 'int'>\n",
      "<class 'int'>\n",
      "<class 'float'>\n"
     ]
    }
   ],
   "source": [
    "# printing the data type\n",
    "for i in list1:\n",
    "    print(type(i))"
   ]
  },
  {
   "cell_type": "markdown",
   "id": "d2adb87c-59cf-4390-9c76-e12c665a97ee",
   "metadata": {},
   "source": [
    "Q5) Solution:"
   ]
  },
  {
   "cell_type": "code",
   "execution_count": 21,
   "id": "69250380-6b03-4a35-9387-7c5ddcbaac00",
   "metadata": {},
   "outputs": [
    {
     "name": "stdin",
     "output_type": "stream",
     "text": [
      "Enter a number A:  729\n",
      "Enter a number B:  3\n"
     ]
    },
    {
     "name": "stdout",
     "output_type": "stream",
     "text": [
      "Number A is divisible by Number B\n",
      "Number A is divisble 6 times by Number B\n"
     ]
    }
   ],
   "source": [
    "num1 = int(input(\"Enter a number A: \"))\n",
    "num2 = int(input(\"Enter a number B: \"))\n",
    "count = 0\n",
    "while num1%num2 == 0:\n",
    "  num1 = num1/num2\n",
    "  count = count + 1\n",
    "\n",
    "if count == 0:\n",
    "  print(\"Number A isn't divisible by Number B\")\n",
    "else:\n",
    "  print(\"Number A is divisible by Number B\")\n",
    "  print(f\"Number A is divisble {count} times by Number B\")"
   ]
  },
  {
   "cell_type": "markdown",
   "id": "c3ea54b2-b9e4-49d5-8657-ee57462a3ca5",
   "metadata": {},
   "source": [
    "Q6) Solution:"
   ]
  },
  {
   "cell_type": "code",
   "execution_count": 23,
   "id": "18b34a60-550c-4ad6-addd-1eb9e38e1444",
   "metadata": {},
   "outputs": [
    {
     "name": "stdout",
     "output_type": "stream",
     "text": [
      "5 isn't divisible by 3\n",
      "78 is divisible by 3\n",
      "56 isn't divisible by 3\n",
      "33 is divisible by 3\n",
      "6 is divisible by 3\n",
      "67 isn't divisible by 3\n",
      "100 isn't divisible by 3\n",
      "343 isn't divisible by 3\n",
      "89 isn't divisible by 3\n",
      "98 isn't divisible by 3\n",
      "555 is divisible by 3\n",
      "678 is divisible by 3\n",
      "546 is divisible by 3\n",
      "999 is divisible by 3\n",
      "23 isn't divisible by 3\n",
      "30 is divisible by 3\n",
      "729 is divisible by 3\n",
      "43 isn't divisible by 3\n",
      "40 isn't divisible by 3\n",
      "30 is divisible by 3\n",
      "597 is divisible by 3\n",
      "36 is divisible by 3\n",
      "81 is divisible by 3\n",
      "61 isn't divisible by 3\n",
      "27 is divisible by 3\n"
     ]
    }
   ],
   "source": [
    "list2 = [5, 78, 56, 33, 6, 67, 100, 343, 89, 98, 555, 678, 546, 999, 23, 30, 729, 43, 40, 30, 597, 36, 81, 61, 27 ]\n",
    "for i in list2:\n",
    "  if i%3 == 0:\n",
    "    print(f\"{i} is divisible by 3\")\n",
    "  else:\n",
    "    print(f\"{i} isn't divisible by 3\")"
   ]
  },
  {
   "cell_type": "markdown",
   "id": "e87cbada-554c-464f-ad95-c864967e9619",
   "metadata": {},
   "source": [
    "Q7) Solution:"
   ]
  },
  {
   "cell_type": "markdown",
   "id": "9f90696a-6749-4403-9548-0218aafc29c9",
   "metadata": {},
   "source": [
    "Mutable Data Types are those data types which allow to change its value. e.g list, dictionary and sets.. Example:"
   ]
  },
  {
   "cell_type": "code",
   "execution_count": 24,
   "id": "1b4a54f8-21e5-4430-bc1c-38fdce061de0",
   "metadata": {},
   "outputs": [],
   "source": [
    "list3 = [\"Python\", 3, True]"
   ]
  },
  {
   "cell_type": "code",
   "execution_count": 25,
   "id": "3a99941d-80c8-40ef-875d-d0757ffd701d",
   "metadata": {},
   "outputs": [],
   "source": [
    "# let us change the value of index 1 from 3 to 90\n",
    "list3[1] = 90"
   ]
  },
  {
   "cell_type": "code",
   "execution_count": 26,
   "id": "052034cc-6c83-4b7e-becd-884bb4128e24",
   "metadata": {},
   "outputs": [
    {
     "name": "stdout",
     "output_type": "stream",
     "text": [
      "['Python', 90, True]\n"
     ]
    }
   ],
   "source": [
    "# Now let us print the list again\n",
    "print(list3)"
   ]
  },
  {
   "cell_type": "markdown",
   "id": "08fd693b-f84e-42f1-b969-bcdeff43d829",
   "metadata": {},
   "source": [
    "As we can see we changed the value of index 1 so the list got modified, such thing is possible in mutable data types "
   ]
  },
  {
   "cell_type": "markdown",
   "id": "7977113c-5602-40ef-8823-cc49cff2bf01",
   "metadata": {},
   "source": [
    "Immutable Data types are those data types which once defined cannot be changed. The value of immutable data type cannot be changed. e.g int, str, float, tuple... Example:"
   ]
  },
  {
   "cell_type": "code",
   "execution_count": 27,
   "id": "96123bc0-48fb-4957-a800-f6cd340858c7",
   "metadata": {},
   "outputs": [],
   "source": [
    "str = \"Python\""
   ]
  },
  {
   "cell_type": "code",
   "execution_count": 31,
   "id": "68dd9039-978b-4b98-a956-80c32f037ec0",
   "metadata": {},
   "outputs": [
    {
     "ename": "TypeError",
     "evalue": "'str' object does not support item assignment",
     "output_type": "error",
     "traceback": [
      "\u001b[0;31m---------------------------------------------------------------------------\u001b[0m",
      "\u001b[0;31mTypeError\u001b[0m                                 Traceback (most recent call last)",
      "Cell \u001b[0;32mIn[31], line 2\u001b[0m\n\u001b[1;32m      1\u001b[0m \u001b[38;5;66;03m# We will try to change the value of str at index 2 i.e. t\u001b[39;00m\n\u001b[0;32m----> 2\u001b[0m \u001b[38;5;28;43mstr\u001b[39;49m\u001b[43m[\u001b[49m\u001b[38;5;241;43m2\u001b[39;49m\u001b[43m]\u001b[49m \u001b[38;5;241m=\u001b[39m \u001b[38;5;124m\"\u001b[39m\u001b[38;5;124ms\u001b[39m\u001b[38;5;124m\"\u001b[39m\n",
      "\u001b[0;31mTypeError\u001b[0m: 'str' object does not support item assignment"
     ]
    }
   ],
   "source": [
    "# We will try to change the value of str at index 2 i.e. t\n",
    "str[2] = \"s\""
   ]
  },
  {
   "cell_type": "code",
   "execution_count": 30,
   "id": "71a337b3-aa5e-4679-b660-cf7d4068cca1",
   "metadata": {},
   "outputs": [
    {
     "name": "stdout",
     "output_type": "stream",
     "text": [
      "Python\n"
     ]
    }
   ],
   "source": [
    "    # We will print the value of string again to check if the string has been modified or not\n",
    "    print(str)"
   ]
  },
  {
   "cell_type": "markdown",
   "id": "b8fdfcc8-bfa3-4c3a-8bed-a539f6ad1e2c",
   "metadata": {},
   "source": [
    "As we can see we cannot change the value of string, we get an error if we do so. Also when we print the s"
   ]
  }
 ],
 "metadata": {
  "kernelspec": {
   "display_name": "Python 3 (ipykernel)",
   "language": "python",
   "name": "python3"
  },
  "language_info": {
   "codemirror_mode": {
    "name": "ipython",
    "version": 3
   },
   "file_extension": ".py",
   "mimetype": "text/x-python",
   "name": "python",
   "nbconvert_exporter": "python",
   "pygments_lexer": "ipython3",
   "version": "3.10.8"
  }
 },
 "nbformat": 4,
 "nbformat_minor": 5
}
