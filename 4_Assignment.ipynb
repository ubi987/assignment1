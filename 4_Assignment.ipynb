{
 "cells": [
  {
   "cell_type": "markdown",
   "id": "1542161e-6168-442d-a9f9-d1fafd5888bc",
   "metadata": {},
   "source": [
    "Q1 Solution:"
   ]
  },
  {
   "cell_type": "code",
   "execution_count": 1,
   "id": "2cb70ffd-064f-4fec-bef0-4ea68a23e97a",
   "metadata": {},
   "outputs": [
    {
     "name": "stdout",
     "output_type": "stream",
     "text": [
      "[('Virat Kohli', 24936), ('Jack Kallis', 25534), ('Ricky Ponting', 27483), ('Sachin Tendulkar', 34357)]\n"
     ]
    }
   ],
   "source": [
    "list1 = [('Sachin Tendulkar', 34357), ('Ricky Ponting', 27483), ('Jack Kallis', 25534), ('Virat Kohli', 24936)]\n",
    "sorted_tuples = sorted(list1, key= lambda x : x[1])\n",
    "print(sorted_tuples)"
   ]
  },
  {
   "cell_type": "markdown",
   "id": "f89c8a85-a5a3-4921-a241-bfe9d3ce5e1e",
   "metadata": {},
   "source": [
    "Q2 Solution:"
   ]
  },
  {
   "cell_type": "code",
   "execution_count": 2,
   "id": "73c82bfc-1b9a-493c-b18f-60185c1ddf5a",
   "metadata": {},
   "outputs": [
    {
     "name": "stdout",
     "output_type": "stream",
     "text": [
      "[1, 4, 9, 16, 25, 36, 49, 64, 81, 100]\n"
     ]
    }
   ],
   "source": [
    "list2 = [1, 2, 3, 4, 5, 6, 7, 8, 9, 10]\n",
    "squares = list(map(lambda x: x**2, list2))\n",
    "print(squares)"
   ]
  },
  {
   "cell_type": "markdown",
   "id": "d73ad1ec-f2b5-4bdf-89e0-84cd9389639f",
   "metadata": {},
   "source": [
    "Q3 Solution:"
   ]
  },
  {
   "cell_type": "code",
   "execution_count": 3,
   "id": "38fc5b20-8338-4eb8-bd03-37ee32dab25f",
   "metadata": {},
   "outputs": [
    {
     "name": "stdout",
     "output_type": "stream",
     "text": [
      "('1', '2', '3', '4', '5', '6', '7', '8', '9', '10')\n"
     ]
    }
   ],
   "source": [
    "list3 = [1, 2, 3, 4, 5, 6, 7, 8, 9, 10]\n",
    "tup = tuple(map(lambda x: str(x), list3))\n",
    "print(tup)"
   ]
  },
  {
   "cell_type": "markdown",
   "id": "67f3ea34-c86a-454e-8f4c-075d0b497b5b",
   "metadata": {},
   "source": [
    "Q4 Solution:"
   ]
  },
  {
   "cell_type": "code",
   "execution_count": 4,
   "id": "24e2a69b-9fed-4784-80f8-17e695ed44d5",
   "metadata": {},
   "outputs": [
    {
     "name": "stdout",
     "output_type": "stream",
     "text": [
      "15511210043330985984000000\n"
     ]
    }
   ],
   "source": [
    "from functools import reduce\n",
    "list4 = [1, 2, 3, 4, 5, 6, 7, 8, 9, 10, 11, 12, 13, 14, 15, 16, 17, 18, 19, 20, 21, 22, 23, 24, 25]\n",
    "a = reduce(lambda x, y: x*y, list4)\n",
    "print(a)"
   ]
  },
  {
   "cell_type": "markdown",
   "id": "5dc66642-8b92-44d2-b394-90758ff3cadc",
   "metadata": {},
   "source": [
    "Q5 Solution:"
   ]
  },
  {
   "cell_type": "code",
   "execution_count": 5,
   "id": "f2f7a43f-8ad8-498a-ab30-faf3356fb47c",
   "metadata": {},
   "outputs": [
    {
     "name": "stdout",
     "output_type": "stream",
     "text": [
      "[6, 60, 90, 120]\n"
     ]
    }
   ],
   "source": [
    "list5 = [2, 3, 6, 9, 27, 60, 90, 120, 55, 46]\n",
    "b = list(filter(lambda x: x%2 == 0 and x%3 == 0, list5))\n",
    "print(b)"
   ]
  },
  {
   "cell_type": "markdown",
   "id": "ed95f494-689c-46b3-9255-178edbfe22c2",
   "metadata": {},
   "source": [
    "Q6 Solution:"
   ]
  },
  {
   "cell_type": "code",
   "execution_count": 6,
   "id": "436b21bc-3243-4597-a5d0-61c1278a9b23",
   "metadata": {},
   "outputs": [
    {
     "name": "stdout",
     "output_type": "stream",
     "text": [
      "['php', 'aba', 'radar', 'level']\n"
     ]
    }
   ],
   "source": [
    "list6 = ['python', 'php', 'aba', 'radar', 'level']\n",
    "c = list(filter(lambda x: x[::] == x[::-1], list6))\n",
    "print(c)"
   ]
  },
  {
   "cell_type": "code",
   "execution_count": null,
   "id": "c975fc28-f053-47de-b494-598b2fcc0fcb",
   "metadata": {},
   "outputs": [],
   "source": []
  }
 ],
 "metadata": {
  "kernelspec": {
   "display_name": "Python 3 (ipykernel)",
   "language": "python",
   "name": "python3"
  },
  "language_info": {
   "codemirror_mode": {
    "name": "ipython",
    "version": 3
   },
   "file_extension": ".py",
   "mimetype": "text/x-python",
   "name": "python",
   "nbconvert_exporter": "python",
   "pygments_lexer": "ipython3",
   "version": "3.10.8"
  }
 },
 "nbformat": 4,
 "nbformat_minor": 5
}
