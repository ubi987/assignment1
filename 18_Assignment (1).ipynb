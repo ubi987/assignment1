{
 "cells": [
  {
   "cell_type": "code",
   "execution_count": 1,
   "id": "29097cea-a7d1-4b66-82f5-1bb11da67fae",
   "metadata": {},
   "outputs": [
    {
     "name": "stdout",
     "output_type": "stream",
     "text": [
      "Requirement already satisfied: pandas in /opt/conda/lib/python3.10/site-packages (1.5.2)\n",
      "Requirement already satisfied: python-dateutil>=2.8.1 in /opt/conda/lib/python3.10/site-packages (from pandas) (2.8.2)\n",
      "Requirement already satisfied: pytz>=2020.1 in /opt/conda/lib/python3.10/site-packages (from pandas) (2022.6)\n",
      "Requirement already satisfied: numpy>=1.21.0 in /opt/conda/lib/python3.10/site-packages (from pandas) (1.23.5)\n",
      "Requirement already satisfied: six>=1.5 in /opt/conda/lib/python3.10/site-packages (from python-dateutil>=2.8.1->pandas) (1.16.0)\n",
      "Note: you may need to restart the kernel to use updated packages.\n"
     ]
    }
   ],
   "source": [
    "pip install pandas"
   ]
  },
  {
   "cell_type": "markdown",
   "id": "43dcc614-b8ff-434f-9c0b-bb97ec1f8cfd",
   "metadata": {},
   "source": [
    "Q1 SOLUTION"
   ]
  },
  {
   "cell_type": "code",
   "execution_count": 7,
   "id": "f18343a0-7364-48c3-a5a4-d491d0e30d51",
   "metadata": {},
   "outputs": [
    {
     "name": "stdout",
     "output_type": "stream",
     "text": [
      "A     4\n",
      "B     8\n",
      "C    15\n",
      "D    16\n",
      "E    23\n",
      "F    42\n",
      "dtype: int64\n"
     ]
    }
   ],
   "source": [
    "import pandas as pd\n",
    "data = [4, 8, 15, 16, 23, 42]\n",
    "index = ['A', 'B', 'C', 'D', 'E', 'F'] \n",
    "series = pd.Series(data, index=index)\n",
    "print(series)"
   ]
  },
  {
   "cell_type": "markdown",
   "id": "6e099c47-78ef-4cac-b960-dd3014a7626a",
   "metadata": {},
   "source": [
    "Q2 SOLUTION"
   ]
  },
  {
   "cell_type": "code",
   "execution_count": 8,
   "id": "ab5ac9fc-6a97-4676-a37f-39bdf8d7a4a8",
   "metadata": {},
   "outputs": [
    {
     "name": "stdout",
     "output_type": "stream",
     "text": [
      "0     3\n",
      "1     9\n",
      "2    15\n",
      "3    20\n",
      "4    25\n",
      "5    36\n",
      "6    39\n",
      "7    40\n",
      "8    45\n",
      "9     6\n",
      "dtype: int64\n"
     ]
    }
   ],
   "source": [
    "import pandas as pd\n",
    "data = [3, 9, 15, 20, 25, 36, 39, 40, 45, 6]\n",
    "series = pd.Series(data)\n",
    "print(series)"
   ]
  },
  {
   "cell_type": "markdown",
   "id": "e453bac6-1f2b-47a8-bfe0-72580d98927c",
   "metadata": {},
   "source": [
    "Q3 Solution"
   ]
  },
  {
   "cell_type": "code",
   "execution_count": 9,
   "id": "c67f2038-0565-4059-9925-964a62d55658",
   "metadata": {},
   "outputs": [
    {
     "name": "stdout",
     "output_type": "stream",
     "text": [
      "      Name  Age  Gender\n",
      "0    Alice   25  Female\n",
      "1      Bob   30    Male\n",
      "2  Charlie   27  Female\n"
     ]
    }
   ],
   "source": [
    "import pandas as pd\n",
    "data = {\n",
    "    'Name' : ['Alice', 'Bob', 'Charlie'],\n",
    "    'Age' : [25, 30, 27],\n",
    "    'Gender' : ['Female', 'Male', 'Female']\n",
    "}\n",
    "df = pd.DataFrame(data)\n",
    "print(df)"
   ]
  },
  {
   "cell_type": "markdown",
   "id": "44d4e2f3-7d5c-4b30-81d0-55214f6d23e2",
   "metadata": {},
   "source": [
    "Q4 SOLUTION"
   ]
  },
  {
   "cell_type": "markdown",
   "id": "be393423-da0d-4c50-8e12-7231235781d8",
   "metadata": {},
   "source": [
    "In Pandas, a DataFrame is a 2-dimensional labeled data structure that is commonly used to store and manipulate tabular data. It can be thought of as similar to a spreadsheet or a SQL table. A DataFrame consists of rows and columns, where each column can have a different data type. It is a central data structure for data manipulation and analysis in Pandas.\n",
    "\n",
    "On the other hand, a Series is a 1-dimensional labeled array that can hold data of any type. It is similar to a column in a DataFrame or a single row of data. A Series has both data values and associated index labels, making it a powerful data structure for working with sequences of data.\n",
    "\n",
    "Let's illustrate the difference between DataFrame and Series with an example:"
   ]
  },
  {
   "cell_type": "code",
   "execution_count": 3,
   "id": "25a3e044-48ae-449f-be0f-67fa90c28074",
   "metadata": {},
   "outputs": [
    {
     "name": "stdout",
     "output_type": "stream",
     "text": [
      "DataFrame:\n",
      "      Name  Age  Gender\n",
      "0    Alice   25  Female\n",
      "1      Bob   30    Male\n",
      "2  Charlie   27  Female\n",
      "\n",
      "Series:\n",
      "0     3\n",
      "1     9\n",
      "2    15\n",
      "3    20\n",
      "4    25\n",
      "5    36\n",
      "6    39\n",
      "7    40\n",
      "8    45\n",
      "9     6\n",
      "dtype: int64\n"
     ]
    }
   ],
   "source": [
    "import pandas as pd\n",
    "data = {\n",
    "    'Name' : ['Alice', 'Bob', 'Charlie'],\n",
    "    'Age' : [25, 30, 27],\n",
    "    'Gender' : ['Female', 'Male', 'Female']\n",
    "}\n",
    "df = pd.DataFrame(data)\n",
    "print(\"DataFrame:\")\n",
    "print(df)\n",
    "\n",
    "data1 = [3, 9, 15, 20, 25, 36, 39, 40, 45, 6]\n",
    "series = pd.Series(data1)\n",
    "print(\"\\nSeries:\")\n",
    "print(series)"
   ]
  },
  {
   "cell_type": "markdown",
   "id": "44e6f453-e6fc-40ef-9b47-7de6c94c03bf",
   "metadata": {},
   "source": [
    "Q5 SOLUTION"
   ]
  },
  {
   "cell_type": "markdown",
   "id": "6b8c7b19-0b89-4100-b8d7-ae699d5fa60c",
   "metadata": {},
   "source": [
    "Here are some common functions along with examples of when you might use them:\n",
    "\n",
    "1. head() and tail(): These functions allow you to view the first or last few rows of a DataFrame, respectively."
   ]
  },
  {
   "cell_type": "code",
   "execution_count": 4,
   "id": "25097a8b-bbd5-4d1a-a9f4-5802dceaeccf",
   "metadata": {},
   "outputs": [
    {
     "name": "stdout",
     "output_type": "stream",
     "text": [
      "    Name  Age  Gender\n",
      "0  Alice   25  Female\n",
      "      Name  Age  Gender\n",
      "1      Bob   30    Male\n",
      "2  Charlie   27  Female\n"
     ]
    }
   ],
   "source": [
    "import pandas as pd\n",
    "data = {\n",
    "    'Name' : ['Alice', 'Bob', 'Charlie'],\n",
    "    'Age' : [25, 30, 27],\n",
    "    'Gender' : ['Female', 'Male', 'Female']\n",
    "}\n",
    "df = pd.DataFrame(data)\n",
    "print(df.head(1))\n",
    "print(df.tail(2))"
   ]
  },
  {
   "cell_type": "markdown",
   "id": "b010429d-4b5c-4ef2-b733-33efd6f0d67c",
   "metadata": {},
   "source": [
    "2. info(): Provides a summary of the DataFrame's structure, including data types and memory usage."
   ]
  },
  {
   "cell_type": "code",
   "execution_count": 5,
   "id": "76a89d21-c24c-4968-b091-bc1f45d34c56",
   "metadata": {},
   "outputs": [
    {
     "name": "stdout",
     "output_type": "stream",
     "text": [
      "<class 'pandas.core.frame.DataFrame'>\n",
      "RangeIndex: 3 entries, 0 to 2\n",
      "Data columns (total 3 columns):\n",
      " #   Column  Non-Null Count  Dtype \n",
      "---  ------  --------------  ----- \n",
      " 0   Name    3 non-null      object\n",
      " 1   Age     3 non-null      int64 \n",
      " 2   Gender  3 non-null      object\n",
      "dtypes: int64(1), object(2)\n",
      "memory usage: 200.0+ bytes\n",
      "None\n"
     ]
    }
   ],
   "source": [
    "print(df.info())"
   ]
  },
  {
   "cell_type": "markdown",
   "id": "b31262c8-2e67-4fdb-a9b1-2b6fc0d19bf4",
   "metadata": {},
   "source": [
    "3. describe(): Generates summary statistics of numerical columns."
   ]
  },
  {
   "cell_type": "code",
   "execution_count": 6,
   "id": "5ad261f2-df7c-49de-939f-3b73512ac04b",
   "metadata": {},
   "outputs": [
    {
     "name": "stdout",
     "output_type": "stream",
     "text": [
      "             Age\n",
      "count   3.000000\n",
      "mean   27.333333\n",
      "std     2.516611\n",
      "min    25.000000\n",
      "25%    26.000000\n",
      "50%    27.000000\n",
      "75%    28.500000\n",
      "max    30.000000\n"
     ]
    }
   ],
   "source": [
    "print(df.describe())"
   ]
  },
  {
   "cell_type": "markdown",
   "id": "ffa769ab-4db6-4322-b5d9-0e2d06b7066f",
   "metadata": {},
   "source": [
    "4. shape: Returns the number of rows and columns in the DataFrame."
   ]
  },
  {
   "cell_type": "code",
   "execution_count": 7,
   "id": "63f2e1a5-ba33-4644-b4b5-5f573682517d",
   "metadata": {},
   "outputs": [
    {
     "name": "stdout",
     "output_type": "stream",
     "text": [
      "(3, 3)\n"
     ]
    }
   ],
   "source": [
    "print(df.shape)"
   ]
  },
  {
   "cell_type": "markdown",
   "id": "87c906cd-cb01-4965-af9e-d3b53bef2c49",
   "metadata": {},
   "source": [
    "5. drop(): Used to remove rows or columns from the DataFrame."
   ]
  },
  {
   "cell_type": "code",
   "execution_count": 11,
   "id": "8a1f39a1-a8d1-4a25-96eb-7c780cdedf1d",
   "metadata": {},
   "outputs": [
    {
     "name": "stdout",
     "output_type": "stream",
     "text": [
      "      Name  Age\n",
      "0    Alice   25\n",
      "1      Bob   30\n",
      "2  Charlie   27\n"
     ]
    }
   ],
   "source": [
    "drop1 = df.drop(\"Gender\", axis = 1)\n",
    "print(drop1)"
   ]
  },
  {
   "cell_type": "markdown",
   "id": "0dc89801-8a4c-49b1-9f99-309528e7695d",
   "metadata": {},
   "source": [
    "6. sort_values(): Used to sort the DataFrame based on one or more columns."
   ]
  },
  {
   "cell_type": "code",
   "execution_count": 12,
   "id": "9162b328-fec5-4af4-8d88-ef14b18197c8",
   "metadata": {},
   "outputs": [
    {
     "name": "stdout",
     "output_type": "stream",
     "text": [
      "      Name  Age  Gender\n",
      "1      Bob   30    Male\n",
      "2  Charlie   27  Female\n",
      "0    Alice   25  Female\n"
     ]
    }
   ],
   "source": [
    "df_sorted = df.sort_values(by='Age', ascending=False)\n",
    "print(df_sorted)"
   ]
  },
  {
   "cell_type": "markdown",
   "id": "609b24cf-fb87-4dd2-aa45-1427a8e5bdc9",
   "metadata": {},
   "source": [
    "Q6 SOLUTION"
   ]
  },
  {
   "cell_type": "markdown",
   "id": "a5f65617-61a7-4a98-a3bb-d0e123474c7f",
   "metadata": {},
   "source": [
    "Among the options provided, the DataFrame is mutable in nature. This means that you can modify its content after creation. You can add or remove columns, change values within cells, and perform various other operations that alter the structure or values within the DataFrame.\n",
    "\n",
    "On the other hand, both Series and Panel (which has been deprecated in recent versions of Pandas) are considered immutable once created. This means that you cannot directly modify their content after creation. If you need to make changes to a Series or Panel, you typically create a new object with the desired changes."
   ]
  },
  {
   "cell_type": "markdown",
   "id": "ac7fc112-6ba7-417d-9007-aa9cbaa5eee2",
   "metadata": {},
   "source": [
    "Q7 SOLUTION"
   ]
  },
  {
   "cell_type": "markdown",
   "id": "8b36d1e3-52b0-437d-b69f-615339b02d28",
   "metadata": {},
   "source": [
    "You can create a DataFrame using multiple Series by combining them into a dictionary where each Series corresponds to a column, and then using the Pandas pd.DataFrame() constructor to create the DataFrame. Here's an example:"
   ]
  },
  {
   "cell_type": "code",
   "execution_count": 14,
   "id": "21495326-32c4-4b2e-87d9-2fa8c9e00eb9",
   "metadata": {},
   "outputs": [
    {
     "name": "stdout",
     "output_type": "stream",
     "text": [
      "      Name  Age  Gender\n",
      "0    Alice   25  Female\n",
      "1      Bob   30    Male\n",
      "2  Charlie   27  Female\n"
     ]
    }
   ],
   "source": [
    "import pandas as pd\n",
    "name = pd.Series(['Alice', 'Bob', 'Charlie'])\n",
    "age = pd.Series([25, 30, 27])\n",
    "gender = pd.Series(['Female', 'Male', 'Female'])\n",
    "\n",
    "data = {\n",
    "    'Name' : name,\n",
    "    'Age' : age,\n",
    "    'Gender' : gender\n",
    "}\n",
    "print(pd.DataFrame(data))"
   ]
  },
  {
   "cell_type": "code",
   "execution_count": null,
   "id": "ed5858f5-bd00-444a-bd04-3e710157c8b2",
   "metadata": {},
   "outputs": [],
   "source": []
  }
 ],
 "metadata": {
  "kernelspec": {
   "display_name": "Python 3 (ipykernel)",
   "language": "python",
   "name": "python3"
  },
  "language_info": {
   "codemirror_mode": {
    "name": "ipython",
    "version": 3
   },
   "file_extension": ".py",
   "mimetype": "text/x-python",
   "name": "python",
   "nbconvert_exporter": "python",
   "pygments_lexer": "ipython3",
   "version": "3.10.8"
  }
 },
 "nbformat": 4,
 "nbformat_minor": 5
}
